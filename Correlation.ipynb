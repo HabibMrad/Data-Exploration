{
 "cells": [
  {
   "cell_type": "code",
   "execution_count": 709,
   "metadata": {},
   "outputs": [],
   "source": [
    "import pandas as pd\n",
    "from pandas_profiling import ProfileReport\n",
    "from datetime import datetime"
   ]
  },
  {
   "cell_type": "code",
   "execution_count": 710,
   "metadata": {},
   "outputs": [],
   "source": [
    "df= pd.read_excel(r'D:\\Dev-Projects\\Touch-work\\noc\\Ahmad masri test 2020-07-11-14-58.xlsx')\n",
    "# df= pd.read_excel(r'C:\\Users\\Zaher Masri\\Downloads\\Ahmad masri test 2020-07-11-14-58.xlsx')\n",
    "\n",
    "\n",
    "# rename the columns for easier access\n",
    "df.columns= ['id', 'age', 'nationality', 'type',\n",
    "       'days_hired', 'days_unemployed',\n",
    "       'complaint_no', 'date_left', 'status',\n",
    "       'termination_mode', 'date_joined',\n",
    "       'interviews_no',\n",
    "       'interviews_succ_no',\n",
    "       'hired_no', 'canceled_no',\n",
    "       'replaced_no',\n",
    "       'date_hired']"
   ]
  },
  {
   "cell_type": "markdown",
   "metadata": {},
   "source": [
    "# Data Cleanup\n",
    "\n",
    "#### We have to clean the data to make any sense of it and create new meaningful variables"
   ]
  },
  {
   "cell_type": "code",
   "execution_count": 711,
   "metadata": {},
   "outputs": [],
   "source": [
    "# calculate initial hold since it is not availalbe in the data\n",
    "df['init_unemployed']= (pd.to_datetime(df['date_hired'], errors='coerce') - pd.to_datetime(df['date_joined'], errors='coerce')).dt.days\n",
    "\n",
    "# negative days are probably data entry errors. Let us set it to zero\n",
    "df['init_unemployed']= df.init_unemployed.apply(lambda x: 0 if x<0 else x)\n",
    "df['date_joined']= pd.to_datetime(df['date_joined'], errors='coerce')\n",
    "df['month_joined']= df.date_joined.apply(lambda x: datetime.strptime(str(x), \"%Y-%m-%d %H:%M:%S\").month if not pd.isna(x) else 0)\n",
    "df['age_group']= df.age.apply(lambda x: 1 if x<24 else 2 if x<30 else 3)\n",
    "df['complaint_category']=df.complaint_no.apply(lambda x: 1 if x<5 else 2 if x < 10 else 3 if x< 15 else 4)\n",
    "\n",
    "df['interview_succ_rate']= df['interviews_succ_no']/df.interviews_no\n",
    "\n",
    "df['interview_fail_no']= df.interviews_no- df.interviews_succ_no\n",
    "\n",
    "df= df[~(df.status=='LANDED_IN_DUBAI')] # drop it as there is no useful data ('also small sample')"
   ]
  },
  {
   "cell_type": "markdown",
   "metadata": {},
   "source": [
    "# First explore the data with little correlation to customer satisfaction\n"
   ]
  },
  {
   "cell_type": "code",
   "execution_count": 712,
   "metadata": {},
   "outputs": [
    {
     "name": "stdout",
     "output_type": "stream",
     "text": [
      "ratio of walkin to total maids: 0.2978303747534517\n"
     ]
    },
    {
     "data": {
      "text/html": [
       "<div>\n",
       "<style scoped>\n",
       "    .dataframe tbody tr th:only-of-type {\n",
       "        vertical-align: middle;\n",
       "    }\n",
       "\n",
       "    .dataframe tbody tr th {\n",
       "        vertical-align: top;\n",
       "    }\n",
       "\n",
       "    .dataframe thead th {\n",
       "        text-align: right;\n",
       "    }\n",
       "</style>\n",
       "<table border=\"1\" class=\"dataframe\">\n",
       "  <thead>\n",
       "    <tr style=\"text-align: right;\">\n",
       "      <th></th>\n",
       "      <th>type</th>\n",
       "      <th>count</th>\n",
       "    </tr>\n",
       "  </thead>\n",
       "  <tbody>\n",
       "    <tr>\n",
       "      <th>0</th>\n",
       "      <td>FREEDOM_OPERATOR</td>\n",
       "      <td>73</td>\n",
       "    </tr>\n",
       "    <tr>\n",
       "      <th>1</th>\n",
       "      <td>WALKIN</td>\n",
       "      <td>120</td>\n",
       "    </tr>\n",
       "  </tbody>\n",
       "</table>\n",
       "</div>"
      ],
      "text/plain": [
       "               type  count\n",
       "0  FREEDOM_OPERATOR     73\n",
       "1            WALKIN    120"
      ]
     },
     "metadata": {},
     "output_type": "display_data"
    },
    {
     "data": {
      "text/html": [
       "<div>\n",
       "<style scoped>\n",
       "    .dataframe tbody tr th:only-of-type {\n",
       "        vertical-align: middle;\n",
       "    }\n",
       "\n",
       "    .dataframe tbody tr th {\n",
       "        vertical-align: top;\n",
       "    }\n",
       "\n",
       "    .dataframe thead th {\n",
       "        text-align: right;\n",
       "    }\n",
       "</style>\n",
       "<table border=\"1\" class=\"dataframe\">\n",
       "  <thead>\n",
       "    <tr style=\"text-align: right;\">\n",
       "      <th></th>\n",
       "      <th>type</th>\n",
       "      <th>count</th>\n",
       "    </tr>\n",
       "  </thead>\n",
       "  <tbody>\n",
       "    <tr>\n",
       "      <th>0</th>\n",
       "      <td>FREEDOM_OPERATOR</td>\n",
       "      <td>92</td>\n",
       "    </tr>\n",
       "    <tr>\n",
       "      <th>1</th>\n",
       "      <td>WALKIN</td>\n",
       "      <td>41</td>\n",
       "    </tr>\n",
       "  </tbody>\n",
       "</table>\n",
       "</div>"
      ],
      "text/plain": [
       "               type  count\n",
       "0  FREEDOM_OPERATOR     92\n",
       "1            WALKIN     41"
      ]
     },
     "metadata": {},
     "output_type": "display_data"
    }
   ],
   "source": [
    "# Explore the authenticity of the data\n",
    "\n",
    "print(f'ratio of walkin to total maids: {df.groupby(\"type\").size()[1]/ df.shape[0]}') \n",
    "# ratio of walkin to total in this dataset is 30% \n",
    "\n",
    "# if days_hired is zero, this means either it is a problem or incorrect data\n",
    "\n",
    "# If we define 30 days or less employment as a loss or unfruitful contract \n",
    "display(df[df.apply(lambda x: x.termination_mode=='QUIT' and x.days_hired<30, axis=1)].groupby('type').size().reset_index().rename(columns={0:'count'}))\n",
    "display(df[df.apply(lambda x: x.termination_mode=='FIRED' and x.days_hired<30, axis=1)].groupby('type').size().reset_index().rename(columns={0:'count'}))\n",
    "\n",
    "# Walkin are much more likely to quit with less than 30 days of hiring\n",
    "# While it seems that more maids are fired from Freedom operator, \n",
    "# the fact stands that FREEDOM_OPERATOR data we have constitute 70% of our data \n",
    "# (we are not sure how this is an accurate representation of the company. \n",
    "# However it was mentioned that they started accepting WALKIN maids recently)"
   ]
  },
  {
   "cell_type": "code",
   "execution_count": 713,
   "metadata": {},
   "outputs": [
    {
     "data": {
      "text/plain": [
       "type              age_group\n",
       "FREEDOM_OPERATOR  1             1\n",
       "                  2            24\n",
       "                  3            35\n",
       "WALKIN            2            24\n",
       "                  3            13\n",
       "dtype: int64"
      ]
     },
     "metadata": {},
     "output_type": "display_data"
    },
    {
     "data": {
      "text/plain": [
       "type\n",
       "FREEDOM_OPERATOR    AxesSubplot(0.125,0.125;0.775x0.755)\n",
       "WALKIN              AxesSubplot(0.125,0.125;0.775x0.755)\n",
       "Name: age, dtype: object"
      ]
     },
     "metadata": {},
     "output_type": "display_data"
    },
    {
     "data": {
      "image/png": "[encoded data removed]",
      "text/plain": [
       "<Figure size 576x396 with 1 Axes>"
      ]
     },
     "metadata": {},
     "output_type": "display_data"
    }
   ],
   "source": [
    "display(df[df.apply(lambda x: x.termination_mode=='FIRED' and x.days_hired<10, axis=1)].groupby(['type', 'age_group']).size())\n",
    "display(df[df.termination_mode=='FIRED'].groupby('type').age.plot.kde())\n",
    "# display(df.age.plot.kde())\n",
    "# As we see here, there is very little correlation to age\n",
    "# However, as we can see from below we can have the following observations:\n",
    "# * In green, the walkin maids have higher firing rate at lower age, while in blue, \n",
    "# the OPERATOR maids seem to have lower firing rate at lower age\n",
    "# * In general: refering to the table, it seems the both maids types are less lkely \n",
    "# to be (quickly) fired (<10 days) with younger age"
   ]
  },
  {
   "cell_type": "code",
   "execution_count": 714,
   "metadata": {},
   "outputs": [
    {
     "data": {
      "text/plain": [
       "type              age_group\n",
       "FREEDOM_OPERATOR  1             1\n",
       "                  2            24\n",
       "                  3            35\n",
       "WALKIN            2            24\n",
       "                  3            13\n",
       "dtype: int64"
      ]
     },
     "metadata": {},
     "output_type": "display_data"
    },
    {
     "data": {
      "text/plain": [
       "<matplotlib.axes._subplots.AxesSubplot at 0x2508d9889c8>"
      ]
     },
     "execution_count": 714,
     "metadata": {},
     "output_type": "execute_result"
    },
    {
     "data": {
      "image/png": "[encoded data removed]",
      "text/plain": [
       "<Figure size 576x396 with 1 Axes>"
      ]
     },
     "metadata": {},
     "output_type": "display_data"
    }
   ],
   "source": [
    "display(df[df.apply(lambda x: x.termination_mode=='FIRED' and x.days_hired<10, axis=1)].groupby(['type', 'age_group']).size())\n",
    "\n",
    "grouped_data = df.groupby(['age_group', 'complaint_category']).size()\\\n",
    "                .groupby(level=0).apply(lambda x:  100*x / x.sum())\n",
    "\n",
    "grouped_data.unstack(0).plot.barh()\n",
    "\n",
    "# As we can see, there is generally less complaints for the younger maid \n",
    "# (this can be due to several reasons including the cutomer being more patient \n",
    "# with the younger inexperienced nanny, or the nanny/maid being more attentive to the customer's needs)"
   ]
  },
  {
   "cell_type": "code",
   "execution_count": 715,
   "metadata": {},
   "outputs": [
    {
     "data": {
      "text/plain": [
       "termination_mode\n",
       "CONVERTED_TO_MAIDSAE       9\n",
       "FIRED                    333\n",
       "QUIT                     288\n",
       "misc                    1263\n",
       "not_terminated           642\n",
       "dtype: int64"
      ]
     },
     "metadata": {},
     "output_type": "display_data"
    }
   ],
   "source": [
    "# Fill Missing Null Values\n",
    "\n",
    "df['termination_mode']= df.apply(lambda x: 'misc' \\\n",
    "            if pd.isna(x.termination_mode) and x.status in ['UNREACHABLE_AFTER_EXIT', 'VISA_UNSUCCESSFUL',\\\n",
    "       'REJECTED','IN_EXIT', 'NO_SHOW'] \\\n",
    "            else 'not_terminated' \\\n",
    "            if pd.isna(x.termination_mode) and x.status in ['PENDING_FOR_DISCIPLINE','SICK_WITHOUT_CLIENT','AVAILABLE', 'WITH_CLIENT'] \\\n",
    "            else x.termination_mode, axis= 1)\n",
    "\n",
    "display(df.groupby('termination_mode').size())"
   ]
  },
  {
   "cell_type": "code",
   "execution_count": 716,
   "metadata": {},
   "outputs": [
    {
     "data": {
      "text/html": [
       "<div>\n",
       "<style scoped>\n",
       "    .dataframe tbody tr th:only-of-type {\n",
       "        vertical-align: middle;\n",
       "    }\n",
       "\n",
       "    .dataframe tbody tr th {\n",
       "        vertical-align: top;\n",
       "    }\n",
       "\n",
       "    .dataframe thead th {\n",
       "        text-align: right;\n",
       "    }\n",
       "</style>\n",
       "<table border=\"1\" class=\"dataframe\">\n",
       "  <thead>\n",
       "    <tr style=\"text-align: right;\">\n",
       "      <th></th>\n",
       "      <th>type</th>\n",
       "      <th>count</th>\n",
       "    </tr>\n",
       "  </thead>\n",
       "  <tbody>\n",
       "    <tr>\n",
       "      <th>0</th>\n",
       "      <td>FREEDOM_OPERATOR</td>\n",
       "      <td>53</td>\n",
       "    </tr>\n",
       "    <tr>\n",
       "      <th>1</th>\n",
       "      <td>WALKIN</td>\n",
       "      <td>115</td>\n",
       "    </tr>\n",
       "  </tbody>\n",
       "</table>\n",
       "</div>"
      ],
      "text/plain": [
       "               type  count\n",
       "0  FREEDOM_OPERATOR     53\n",
       "1            WALKIN    115"
      ]
     },
     "execution_count": 716,
     "metadata": {},
     "output_type": "execute_result"
    }
   ],
   "source": [
    "# Let us engineer Termination_mode, \n",
    "# FIRED is definately a bad sign. \n",
    "# QUIT can be a normal or bad sign depending on how much time days_hired have been spent\n",
    "\n",
    "\n",
    "df[df.apply(lambda x: \\\n",
    "            x.termination_mode=='QUIT' and x.days_hired <10, axis=1)]\\\n",
    "            .groupby('type').size().reset_index().rename(columns={0:'count'})\n",
    "# Walkin maids generally  feel less obligation to commit \n"
   ]
  },
  {
   "cell_type": "code",
   "execution_count": 717,
   "metadata": {},
   "outputs": [
    {
     "name": "stdout",
     "output_type": "stream",
     "text": [
      "The dominant type for terminated maid with zero working days is FREEDOM_OPERATOR which is 0.7069081153588196\n"
     ]
    }
   ],
   "source": [
    "# We can drop records where status is in 'EMPLOYEMENT_TERMINATED', 'IN_EXIT', 'REJECTED', \\\n",
    "#                                         'UNREACHABLE_AFTER_EXIT', 'VISA_UNSUCCESSFUL'\n",
    "# These mostly took processing and followup manhours from the company and we will reflect on it before proceding\n",
    "# These values has no or little influence on customer satisfaction\n",
    "\n",
    "check= lambda x: (x.status in ['EMPLOYEMENT_TERMINATED', 'IN_EXIT', 'REJECTED', \\\n",
    "                                         'UNREACHABLE_AFTER_EXIT', 'VISA_UNSUCCESSFUL', 'NO_SHOW']) \\\n",
    "                 and x.days_hired ==0 \n",
    "\n",
    "# If days_hired = 0 this means the termination has no relation to customer satisfaction\n",
    "\n",
    "df_terminated = df[df.apply(check, axis= 1)].copy()\n",
    "df=df[~df.apply(check, axis= 1)] \n",
    "tbl_size= df_terminated.groupby('type').size()\n",
    "print(f\"The dominant type for terminated maid with zero working days is {tbl_size.index[0]} which is {tbl_size[0]/df_terminated.shape[0]}\") \n",
    "# the vast majority are via an operator. However, since the original data was also, 70/30 we cannot make any meaningful observations\n"
   ]
  },
  {
   "cell_type": "code",
   "execution_count": 718,
   "metadata": {},
   "outputs": [],
   "source": [
    "# Now let's assume that when a date is missing, the total\n",
    "\n",
    "# if we want to be more accurate we will only fill the ones hired\n",
    "# once with the days_unemployed, and the rest according to the hiring times\n",
    "df['init_unemployed']= df.apply(lambda x: x.days_unemployed if pd.isna(x.init_unemployed) else x.init_unemployed, axis= 1)"
   ]
  },
  {
   "cell_type": "code",
   "execution_count": 783,
   "metadata": {},
   "outputs": [
    {
     "data": {
      "text/html": [
       "<div>\n",
       "<style scoped>\n",
       "    .dataframe tbody tr th:only-of-type {\n",
       "        vertical-align: middle;\n",
       "    }\n",
       "\n",
       "    .dataframe tbody tr th {\n",
       "        vertical-align: top;\n",
       "    }\n",
       "\n",
       "    .dataframe thead th {\n",
       "        text-align: right;\n",
       "    }\n",
       "</style>\n",
       "<table border=\"1\" class=\"dataframe\">\n",
       "  <thead>\n",
       "    <tr style=\"text-align: right;\">\n",
       "      <th></th>\n",
       "      <th>nationality</th>\n",
       "      <th>type</th>\n",
       "      <th>init_unemployed</th>\n",
       "    </tr>\n",
       "  </thead>\n",
       "  <tbody>\n",
       "    <tr>\n",
       "      <th>nationality</th>\n",
       "      <td>1.000000</td>\n",
       "      <td>-0.506975</td>\n",
       "      <td>0.070021</td>\n",
       "    </tr>\n",
       "    <tr>\n",
       "      <th>type</th>\n",
       "      <td>-0.506975</td>\n",
       "      <td>1.000000</td>\n",
       "      <td>0.055798</td>\n",
       "    </tr>\n",
       "    <tr>\n",
       "      <th>init_unemployed</th>\n",
       "      <td>0.070021</td>\n",
       "      <td>0.055798</td>\n",
       "      <td>1.000000</td>\n",
       "    </tr>\n",
       "  </tbody>\n",
       "</table>\n",
       "</div>"
      ],
      "text/plain": [
       "                 nationality      type  init_unemployed\n",
       "nationality         1.000000 -0.506975         0.070021\n",
       "type               -0.506975  1.000000         0.055798\n",
       "init_unemployed     0.070021  0.055798         1.000000"
      ]
     },
     "execution_count": 783,
     "metadata": {},
     "output_type": "execute_result"
    }
   ],
   "source": [
    "temp= df[['nationality', 'type', 'init_unemployed']].copy()\n",
    "\n",
    "\n",
    "temp['type']= temp.type.apply(lambda x: 1 if x=='WALKIN' else 2)\n",
    "\n",
    "categorize = {\"nationality\":     {'Kenyan': 1, 'Ethiopian': 2, 'Cameroonian': 3, 'Ivorian': 4, 'Ugandan': 5,\n",
    "       'Nigerian': 6, 'Ghanaian': 7, 'Togolese': 8, 'Sierra Leonean': 9, 'Zimbabwean': 10, 'Gambian': 11, 'Congolese': 12, 'Liberian': 13}}\n",
    "temp.replace(categorize, inplace=True)\n",
    "temp.reset_index(drop=True, inplace=True)\n",
    "\n",
    "temp.corr()\n",
    "# The below confirms what we have discovered that the data is very unbalanced and there is a large correlation between the type and nationality\n"
   ]
  },
  {
   "cell_type": "code",
   "execution_count": 720,
   "metadata": {},
   "outputs": [
    {
     "name": "stderr",
     "output_type": "stream",
     "text": [
      "D:\\Development-Tools\\Anaconda3\\lib\\site-packages\\ipykernel_launcher.py:5: SettingWithCopyWarning: \n",
      "A value is trying to be set on a copy of a slice from a DataFrame.\n",
      "Try using .loc[row_indexer,col_indexer] = value instead\n",
      "\n",
      "See the caveats in the documentation: https://pandas.pydata.org/pandas-docs/stable/user_guide/indexing.html#returning-a-view-versus-a-copy\n",
      "  \"\"\"\n"
     ]
    },
    {
     "data": {
      "text/plain": [
       "'1:'"
      ]
     },
     "metadata": {},
     "output_type": "display_data"
    },
    {
     "data": {
      "text/plain": [
       "287"
      ]
     },
     "metadata": {},
     "output_type": "display_data"
    },
    {
     "data": {
      "text/html": [
       "<div>\n",
       "<style scoped>\n",
       "    .dataframe tbody tr th:only-of-type {\n",
       "        vertical-align: middle;\n",
       "    }\n",
       "\n",
       "    .dataframe tbody tr th {\n",
       "        vertical-align: top;\n",
       "    }\n",
       "\n",
       "    .dataframe thead th {\n",
       "        text-align: right;\n",
       "    }\n",
       "</style>\n",
       "<table border=\"1\" class=\"dataframe\">\n",
       "  <thead>\n",
       "    <tr style=\"text-align: right;\">\n",
       "      <th></th>\n",
       "      <th>init_unemployed</th>\n",
       "      <th>type</th>\n",
       "    </tr>\n",
       "  </thead>\n",
       "  <tbody>\n",
       "    <tr>\n",
       "      <th>init_unemployed</th>\n",
       "      <td>1.00000</td>\n",
       "      <td>0.06325</td>\n",
       "    </tr>\n",
       "    <tr>\n",
       "      <th>type</th>\n",
       "      <td>0.06325</td>\n",
       "      <td>1.00000</td>\n",
       "    </tr>\n",
       "  </tbody>\n",
       "</table>\n",
       "</div>"
      ],
      "text/plain": [
       "                 init_unemployed     type\n",
       "init_unemployed          1.00000  0.06325\n",
       "type                     0.06325  1.00000"
      ]
     },
     "metadata": {},
     "output_type": "display_data"
    },
    {
     "data": {
      "text/plain": [
       "'1:'"
      ]
     },
     "metadata": {},
     "output_type": "display_data"
    },
    {
     "data": {
      "text/plain": [
       "287"
      ]
     },
     "metadata": {},
     "output_type": "display_data"
    },
    {
     "data": {
      "text/html": [
       "<div>\n",
       "<style scoped>\n",
       "    .dataframe tbody tr th:only-of-type {\n",
       "        vertical-align: middle;\n",
       "    }\n",
       "\n",
       "    .dataframe tbody tr th {\n",
       "        vertical-align: top;\n",
       "    }\n",
       "\n",
       "    .dataframe thead th {\n",
       "        text-align: right;\n",
       "    }\n",
       "</style>\n",
       "<table border=\"1\" class=\"dataframe\">\n",
       "  <thead>\n",
       "    <tr style=\"text-align: right;\">\n",
       "      <th></th>\n",
       "      <th>init_unemployed</th>\n",
       "      <th>temp_nationality</th>\n",
       "    </tr>\n",
       "  </thead>\n",
       "  <tbody>\n",
       "    <tr>\n",
       "      <th>init_unemployed</th>\n",
       "      <td>1.00000</td>\n",
       "      <td>0.07579</td>\n",
       "    </tr>\n",
       "    <tr>\n",
       "      <th>temp_nationality</th>\n",
       "      <td>0.07579</td>\n",
       "      <td>1.00000</td>\n",
       "    </tr>\n",
       "  </tbody>\n",
       "</table>\n",
       "</div>"
      ],
      "text/plain": [
       "                  init_unemployed  temp_nationality\n",
       "init_unemployed           1.00000           0.07579\n",
       "temp_nationality          0.07579           1.00000"
      ]
     },
     "metadata": {},
     "output_type": "display_data"
    },
    {
     "name": "stderr",
     "output_type": "stream",
     "text": [
      "D:\\Development-Tools\\Anaconda3\\lib\\site-packages\\ipykernel_launcher.py:5: SettingWithCopyWarning: \n",
      "A value is trying to be set on a copy of a slice from a DataFrame.\n",
      "Try using .loc[row_indexer,col_indexer] = value instead\n",
      "\n",
      "See the caveats in the documentation: https://pandas.pydata.org/pandas-docs/stable/user_guide/indexing.html#returning-a-view-versus-a-copy\n",
      "  \"\"\"\n"
     ]
    },
    {
     "data": {
      "text/plain": [
       "'2:'"
      ]
     },
     "metadata": {},
     "output_type": "display_data"
    },
    {
     "data": {
      "text/plain": [
       "241"
      ]
     },
     "metadata": {},
     "output_type": "display_data"
    },
    {
     "data": {
      "text/html": [
       "<div>\n",
       "<style scoped>\n",
       "    .dataframe tbody tr th:only-of-type {\n",
       "        vertical-align: middle;\n",
       "    }\n",
       "\n",
       "    .dataframe tbody tr th {\n",
       "        vertical-align: top;\n",
       "    }\n",
       "\n",
       "    .dataframe thead th {\n",
       "        text-align: right;\n",
       "    }\n",
       "</style>\n",
       "<table border=\"1\" class=\"dataframe\">\n",
       "  <thead>\n",
       "    <tr style=\"text-align: right;\">\n",
       "      <th></th>\n",
       "      <th>init_unemployed</th>\n",
       "      <th>type</th>\n",
       "    </tr>\n",
       "  </thead>\n",
       "  <tbody>\n",
       "    <tr>\n",
       "      <th>init_unemployed</th>\n",
       "      <td>1.00000</td>\n",
       "      <td>0.04721</td>\n",
       "    </tr>\n",
       "    <tr>\n",
       "      <th>type</th>\n",
       "      <td>0.04721</td>\n",
       "      <td>1.00000</td>\n",
       "    </tr>\n",
       "  </tbody>\n",
       "</table>\n",
       "</div>"
      ],
      "text/plain": [
       "                 init_unemployed     type\n",
       "init_unemployed          1.00000  0.04721\n",
       "type                     0.04721  1.00000"
      ]
     },
     "metadata": {},
     "output_type": "display_data"
    },
    {
     "data": {
      "text/plain": [
       "'2:'"
      ]
     },
     "metadata": {},
     "output_type": "display_data"
    },
    {
     "data": {
      "text/plain": [
       "241"
      ]
     },
     "metadata": {},
     "output_type": "display_data"
    },
    {
     "data": {
      "text/html": [
       "<div>\n",
       "<style scoped>\n",
       "    .dataframe tbody tr th:only-of-type {\n",
       "        vertical-align: middle;\n",
       "    }\n",
       "\n",
       "    .dataframe tbody tr th {\n",
       "        vertical-align: top;\n",
       "    }\n",
       "\n",
       "    .dataframe thead th {\n",
       "        text-align: right;\n",
       "    }\n",
       "</style>\n",
       "<table border=\"1\" class=\"dataframe\">\n",
       "  <thead>\n",
       "    <tr style=\"text-align: right;\">\n",
       "      <th></th>\n",
       "      <th>init_unemployed</th>\n",
       "      <th>temp_nationality</th>\n",
       "    </tr>\n",
       "  </thead>\n",
       "  <tbody>\n",
       "    <tr>\n",
       "      <th>init_unemployed</th>\n",
       "      <td>1.000000</td>\n",
       "      <td>-0.007404</td>\n",
       "    </tr>\n",
       "    <tr>\n",
       "      <th>temp_nationality</th>\n",
       "      <td>-0.007404</td>\n",
       "      <td>1.000000</td>\n",
       "    </tr>\n",
       "  </tbody>\n",
       "</table>\n",
       "</div>"
      ],
      "text/plain": [
       "                  init_unemployed  temp_nationality\n",
       "init_unemployed          1.000000         -0.007404\n",
       "temp_nationality        -0.007404          1.000000"
      ]
     },
     "metadata": {},
     "output_type": "display_data"
    },
    {
     "name": "stderr",
     "output_type": "stream",
     "text": [
      "D:\\Development-Tools\\Anaconda3\\lib\\site-packages\\ipykernel_launcher.py:5: SettingWithCopyWarning: \n",
      "A value is trying to be set on a copy of a slice from a DataFrame.\n",
      "Try using .loc[row_indexer,col_indexer] = value instead\n",
      "\n",
      "See the caveats in the documentation: https://pandas.pydata.org/pandas-docs/stable/user_guide/indexing.html#returning-a-view-versus-a-copy\n",
      "  \"\"\"\n"
     ]
    },
    {
     "data": {
      "text/plain": [
       "'3:'"
      ]
     },
     "metadata": {},
     "output_type": "display_data"
    },
    {
     "data": {
      "text/plain": [
       "131"
      ]
     },
     "metadata": {},
     "output_type": "display_data"
    },
    {
     "data": {
      "text/html": [
       "<div>\n",
       "<style scoped>\n",
       "    .dataframe tbody tr th:only-of-type {\n",
       "        vertical-align: middle;\n",
       "    }\n",
       "\n",
       "    .dataframe tbody tr th {\n",
       "        vertical-align: top;\n",
       "    }\n",
       "\n",
       "    .dataframe thead th {\n",
       "        text-align: right;\n",
       "    }\n",
       "</style>\n",
       "<table border=\"1\" class=\"dataframe\">\n",
       "  <thead>\n",
       "    <tr style=\"text-align: right;\">\n",
       "      <th></th>\n",
       "      <th>init_unemployed</th>\n",
       "      <th>type</th>\n",
       "    </tr>\n",
       "  </thead>\n",
       "  <tbody>\n",
       "    <tr>\n",
       "      <th>init_unemployed</th>\n",
       "      <td>1.000000</td>\n",
       "      <td>0.151761</td>\n",
       "    </tr>\n",
       "    <tr>\n",
       "      <th>type</th>\n",
       "      <td>0.151761</td>\n",
       "      <td>1.000000</td>\n",
       "    </tr>\n",
       "  </tbody>\n",
       "</table>\n",
       "</div>"
      ],
      "text/plain": [
       "                 init_unemployed      type\n",
       "init_unemployed         1.000000  0.151761\n",
       "type                    0.151761  1.000000"
      ]
     },
     "metadata": {},
     "output_type": "display_data"
    },
    {
     "data": {
      "text/plain": [
       "'3:'"
      ]
     },
     "metadata": {},
     "output_type": "display_data"
    },
    {
     "data": {
      "text/plain": [
       "131"
      ]
     },
     "metadata": {},
     "output_type": "display_data"
    },
    {
     "data": {
      "text/html": [
       "<div>\n",
       "<style scoped>\n",
       "    .dataframe tbody tr th:only-of-type {\n",
       "        vertical-align: middle;\n",
       "    }\n",
       "\n",
       "    .dataframe tbody tr th {\n",
       "        vertical-align: top;\n",
       "    }\n",
       "\n",
       "    .dataframe thead th {\n",
       "        text-align: right;\n",
       "    }\n",
       "</style>\n",
       "<table border=\"1\" class=\"dataframe\">\n",
       "  <thead>\n",
       "    <tr style=\"text-align: right;\">\n",
       "      <th></th>\n",
       "      <th>init_unemployed</th>\n",
       "      <th>temp_nationality</th>\n",
       "    </tr>\n",
       "  </thead>\n",
       "  <tbody>\n",
       "    <tr>\n",
       "      <th>init_unemployed</th>\n",
       "      <td>1.000000</td>\n",
       "      <td>0.006478</td>\n",
       "    </tr>\n",
       "    <tr>\n",
       "      <th>temp_nationality</th>\n",
       "      <td>0.006478</td>\n",
       "      <td>1.000000</td>\n",
       "    </tr>\n",
       "  </tbody>\n",
       "</table>\n",
       "</div>"
      ],
      "text/plain": [
       "                  init_unemployed  temp_nationality\n",
       "init_unemployed          1.000000          0.006478\n",
       "temp_nationality         0.006478          1.000000"
      ]
     },
     "metadata": {},
     "output_type": "display_data"
    },
    {
     "name": "stderr",
     "output_type": "stream",
     "text": [
      "D:\\Development-Tools\\Anaconda3\\lib\\site-packages\\ipykernel_launcher.py:5: SettingWithCopyWarning: \n",
      "A value is trying to be set on a copy of a slice from a DataFrame.\n",
      "Try using .loc[row_indexer,col_indexer] = value instead\n",
      "\n",
      "See the caveats in the documentation: https://pandas.pydata.org/pandas-docs/stable/user_guide/indexing.html#returning-a-view-versus-a-copy\n",
      "  \"\"\"\n"
     ]
    },
    {
     "data": {
      "text/plain": [
       "'4:'"
      ]
     },
     "metadata": {},
     "output_type": "display_data"
    },
    {
     "data": {
      "text/plain": [
       "3"
      ]
     },
     "metadata": {},
     "output_type": "display_data"
    },
    {
     "data": {
      "text/html": [
       "<div>\n",
       "<style scoped>\n",
       "    .dataframe tbody tr th:only-of-type {\n",
       "        vertical-align: middle;\n",
       "    }\n",
       "\n",
       "    .dataframe tbody tr th {\n",
       "        vertical-align: top;\n",
       "    }\n",
       "\n",
       "    .dataframe thead th {\n",
       "        text-align: right;\n",
       "    }\n",
       "</style>\n",
       "<table border=\"1\" class=\"dataframe\">\n",
       "  <thead>\n",
       "    <tr style=\"text-align: right;\">\n",
       "      <th></th>\n",
       "      <th>init_unemployed</th>\n",
       "      <th>type</th>\n",
       "    </tr>\n",
       "  </thead>\n",
       "  <tbody>\n",
       "    <tr>\n",
       "      <th>init_unemployed</th>\n",
       "      <td>1.0</td>\n",
       "      <td>0.5</td>\n",
       "    </tr>\n",
       "    <tr>\n",
       "      <th>type</th>\n",
       "      <td>0.5</td>\n",
       "      <td>1.0</td>\n",
       "    </tr>\n",
       "  </tbody>\n",
       "</table>\n",
       "</div>"
      ],
      "text/plain": [
       "                 init_unemployed  type\n",
       "init_unemployed              1.0   0.5\n",
       "type                         0.5   1.0"
      ]
     },
     "metadata": {},
     "output_type": "display_data"
    },
    {
     "data": {
      "text/plain": [
       "'4:'"
      ]
     },
     "metadata": {},
     "output_type": "display_data"
    },
    {
     "data": {
      "text/plain": [
       "3"
      ]
     },
     "metadata": {},
     "output_type": "display_data"
    },
    {
     "data": {
      "text/html": [
       "<div>\n",
       "<style scoped>\n",
       "    .dataframe tbody tr th:only-of-type {\n",
       "        vertical-align: middle;\n",
       "    }\n",
       "\n",
       "    .dataframe tbody tr th {\n",
       "        vertical-align: top;\n",
       "    }\n",
       "\n",
       "    .dataframe thead th {\n",
       "        text-align: right;\n",
       "    }\n",
       "</style>\n",
       "<table border=\"1\" class=\"dataframe\">\n",
       "  <thead>\n",
       "    <tr style=\"text-align: right;\">\n",
       "      <th></th>\n",
       "      <th>init_unemployed</th>\n",
       "      <th>temp_nationality</th>\n",
       "    </tr>\n",
       "  </thead>\n",
       "  <tbody>\n",
       "    <tr>\n",
       "      <th>init_unemployed</th>\n",
       "      <td>1.000000</td>\n",
       "      <td>0.008523</td>\n",
       "    </tr>\n",
       "    <tr>\n",
       "      <th>temp_nationality</th>\n",
       "      <td>0.008523</td>\n",
       "      <td>1.000000</td>\n",
       "    </tr>\n",
       "  </tbody>\n",
       "</table>\n",
       "</div>"
      ],
      "text/plain": [
       "                  init_unemployed  temp_nationality\n",
       "init_unemployed          1.000000          0.008523\n",
       "temp_nationality         0.008523          1.000000"
      ]
     },
     "metadata": {},
     "output_type": "display_data"
    },
    {
     "name": "stderr",
     "output_type": "stream",
     "text": [
      "D:\\Development-Tools\\Anaconda3\\lib\\site-packages\\ipykernel_launcher.py:5: SettingWithCopyWarning: \n",
      "A value is trying to be set on a copy of a slice from a DataFrame.\n",
      "Try using .loc[row_indexer,col_indexer] = value instead\n",
      "\n",
      "See the caveats in the documentation: https://pandas.pydata.org/pandas-docs/stable/user_guide/indexing.html#returning-a-view-versus-a-copy\n",
      "  \"\"\"\n"
     ]
    },
    {
     "data": {
      "text/plain": [
       "'5:'"
      ]
     },
     "metadata": {},
     "output_type": "display_data"
    },
    {
     "data": {
      "text/plain": [
       "120"
      ]
     },
     "metadata": {},
     "output_type": "display_data"
    },
    {
     "data": {
      "text/html": [
       "<div>\n",
       "<style scoped>\n",
       "    .dataframe tbody tr th:only-of-type {\n",
       "        vertical-align: middle;\n",
       "    }\n",
       "\n",
       "    .dataframe tbody tr th {\n",
       "        vertical-align: top;\n",
       "    }\n",
       "\n",
       "    .dataframe thead th {\n",
       "        text-align: right;\n",
       "    }\n",
       "</style>\n",
       "<table border=\"1\" class=\"dataframe\">\n",
       "  <thead>\n",
       "    <tr style=\"text-align: right;\">\n",
       "      <th></th>\n",
       "      <th>init_unemployed</th>\n",
       "      <th>type</th>\n",
       "    </tr>\n",
       "  </thead>\n",
       "  <tbody>\n",
       "    <tr>\n",
       "      <th>init_unemployed</th>\n",
       "      <td>1.000000</td>\n",
       "      <td>0.215287</td>\n",
       "    </tr>\n",
       "    <tr>\n",
       "      <th>type</th>\n",
       "      <td>0.215287</td>\n",
       "      <td>1.000000</td>\n",
       "    </tr>\n",
       "  </tbody>\n",
       "</table>\n",
       "</div>"
      ],
      "text/plain": [
       "                 init_unemployed      type\n",
       "init_unemployed         1.000000  0.215287\n",
       "type                    0.215287  1.000000"
      ]
     },
     "metadata": {},
     "output_type": "display_data"
    },
    {
     "data": {
      "text/plain": [
       "'5:'"
      ]
     },
     "metadata": {},
     "output_type": "display_data"
    },
    {
     "data": {
      "text/plain": [
       "120"
      ]
     },
     "metadata": {},
     "output_type": "display_data"
    },
    {
     "data": {
      "text/html": [
       "<div>\n",
       "<style scoped>\n",
       "    .dataframe tbody tr th:only-of-type {\n",
       "        vertical-align: middle;\n",
       "    }\n",
       "\n",
       "    .dataframe tbody tr th {\n",
       "        vertical-align: top;\n",
       "    }\n",
       "\n",
       "    .dataframe thead th {\n",
       "        text-align: right;\n",
       "    }\n",
       "</style>\n",
       "<table border=\"1\" class=\"dataframe\">\n",
       "  <thead>\n",
       "    <tr style=\"text-align: right;\">\n",
       "      <th></th>\n",
       "      <th>init_unemployed</th>\n",
       "      <th>temp_nationality</th>\n",
       "    </tr>\n",
       "  </thead>\n",
       "  <tbody>\n",
       "    <tr>\n",
       "      <th>init_unemployed</th>\n",
       "      <td>1.000000</td>\n",
       "      <td>-0.058269</td>\n",
       "    </tr>\n",
       "    <tr>\n",
       "      <th>temp_nationality</th>\n",
       "      <td>-0.058269</td>\n",
       "      <td>1.000000</td>\n",
       "    </tr>\n",
       "  </tbody>\n",
       "</table>\n",
       "</div>"
      ],
      "text/plain": [
       "                  init_unemployed  temp_nationality\n",
       "init_unemployed          1.000000         -0.058269\n",
       "temp_nationality        -0.058269          1.000000"
      ]
     },
     "metadata": {},
     "output_type": "display_data"
    },
    {
     "name": "stderr",
     "output_type": "stream",
     "text": [
      "D:\\Development-Tools\\Anaconda3\\lib\\site-packages\\ipykernel_launcher.py:5: SettingWithCopyWarning: \n",
      "A value is trying to be set on a copy of a slice from a DataFrame.\n",
      "Try using .loc[row_indexer,col_indexer] = value instead\n",
      "\n",
      "See the caveats in the documentation: https://pandas.pydata.org/pandas-docs/stable/user_guide/indexing.html#returning-a-view-versus-a-copy\n",
      "  \"\"\"\n"
     ]
    },
    {
     "data": {
      "text/plain": [
       "'6:'"
      ]
     },
     "metadata": {},
     "output_type": "display_data"
    },
    {
     "data": {
      "text/plain": [
       "177"
      ]
     },
     "metadata": {},
     "output_type": "display_data"
    },
    {
     "data": {
      "text/html": [
       "<div>\n",
       "<style scoped>\n",
       "    .dataframe tbody tr th:only-of-type {\n",
       "        vertical-align: middle;\n",
       "    }\n",
       "\n",
       "    .dataframe tbody tr th {\n",
       "        vertical-align: top;\n",
       "    }\n",
       "\n",
       "    .dataframe thead th {\n",
       "        text-align: right;\n",
       "    }\n",
       "</style>\n",
       "<table border=\"1\" class=\"dataframe\">\n",
       "  <thead>\n",
       "    <tr style=\"text-align: right;\">\n",
       "      <th></th>\n",
       "      <th>init_unemployed</th>\n",
       "      <th>type</th>\n",
       "    </tr>\n",
       "  </thead>\n",
       "  <tbody>\n",
       "    <tr>\n",
       "      <th>init_unemployed</th>\n",
       "      <td>1.000000</td>\n",
       "      <td>0.019625</td>\n",
       "    </tr>\n",
       "    <tr>\n",
       "      <th>type</th>\n",
       "      <td>0.019625</td>\n",
       "      <td>1.000000</td>\n",
       "    </tr>\n",
       "  </tbody>\n",
       "</table>\n",
       "</div>"
      ],
      "text/plain": [
       "                 init_unemployed      type\n",
       "init_unemployed         1.000000  0.019625\n",
       "type                    0.019625  1.000000"
      ]
     },
     "metadata": {},
     "output_type": "display_data"
    },
    {
     "data": {
      "text/plain": [
       "'6:'"
      ]
     },
     "metadata": {},
     "output_type": "display_data"
    },
    {
     "data": {
      "text/plain": [
       "177"
      ]
     },
     "metadata": {},
     "output_type": "display_data"
    },
    {
     "data": {
      "text/html": [
       "<div>\n",
       "<style scoped>\n",
       "    .dataframe tbody tr th:only-of-type {\n",
       "        vertical-align: middle;\n",
       "    }\n",
       "\n",
       "    .dataframe tbody tr th {\n",
       "        vertical-align: top;\n",
       "    }\n",
       "\n",
       "    .dataframe thead th {\n",
       "        text-align: right;\n",
       "    }\n",
       "</style>\n",
       "<table border=\"1\" class=\"dataframe\">\n",
       "  <thead>\n",
       "    <tr style=\"text-align: right;\">\n",
       "      <th></th>\n",
       "      <th>init_unemployed</th>\n",
       "      <th>temp_nationality</th>\n",
       "    </tr>\n",
       "  </thead>\n",
       "  <tbody>\n",
       "    <tr>\n",
       "      <th>init_unemployed</th>\n",
       "      <td>1.000000</td>\n",
       "      <td>-0.008443</td>\n",
       "    </tr>\n",
       "    <tr>\n",
       "      <th>temp_nationality</th>\n",
       "      <td>-0.008443</td>\n",
       "      <td>1.000000</td>\n",
       "    </tr>\n",
       "  </tbody>\n",
       "</table>\n",
       "</div>"
      ],
      "text/plain": [
       "                  init_unemployed  temp_nationality\n",
       "init_unemployed          1.000000         -0.008443\n",
       "temp_nationality        -0.008443          1.000000"
      ]
     },
     "metadata": {},
     "output_type": "display_data"
    },
    {
     "name": "stderr",
     "output_type": "stream",
     "text": [
      "D:\\Development-Tools\\Anaconda3\\lib\\site-packages\\ipykernel_launcher.py:5: SettingWithCopyWarning: \n",
      "A value is trying to be set on a copy of a slice from a DataFrame.\n",
      "Try using .loc[row_indexer,col_indexer] = value instead\n",
      "\n",
      "See the caveats in the documentation: https://pandas.pydata.org/pandas-docs/stable/user_guide/indexing.html#returning-a-view-versus-a-copy\n",
      "  \"\"\"\n"
     ]
    },
    {
     "data": {
      "text/plain": [
       "'7:'"
      ]
     },
     "metadata": {},
     "output_type": "display_data"
    },
    {
     "data": {
      "text/plain": [
       "69"
      ]
     },
     "metadata": {},
     "output_type": "display_data"
    },
    {
     "data": {
      "text/html": [
       "<div>\n",
       "<style scoped>\n",
       "    .dataframe tbody tr th:only-of-type {\n",
       "        vertical-align: middle;\n",
       "    }\n",
       "\n",
       "    .dataframe tbody tr th {\n",
       "        vertical-align: top;\n",
       "    }\n",
       "\n",
       "    .dataframe thead th {\n",
       "        text-align: right;\n",
       "    }\n",
       "</style>\n",
       "<table border=\"1\" class=\"dataframe\">\n",
       "  <thead>\n",
       "    <tr style=\"text-align: right;\">\n",
       "      <th></th>\n",
       "      <th>init_unemployed</th>\n",
       "      <th>type</th>\n",
       "    </tr>\n",
       "  </thead>\n",
       "  <tbody>\n",
       "    <tr>\n",
       "      <th>init_unemployed</th>\n",
       "      <td>1.000000</td>\n",
       "      <td>0.049774</td>\n",
       "    </tr>\n",
       "    <tr>\n",
       "      <th>type</th>\n",
       "      <td>0.049774</td>\n",
       "      <td>1.000000</td>\n",
       "    </tr>\n",
       "  </tbody>\n",
       "</table>\n",
       "</div>"
      ],
      "text/plain": [
       "                 init_unemployed      type\n",
       "init_unemployed         1.000000  0.049774\n",
       "type                    0.049774  1.000000"
      ]
     },
     "metadata": {},
     "output_type": "display_data"
    },
    {
     "data": {
      "text/plain": [
       "'7:'"
      ]
     },
     "metadata": {},
     "output_type": "display_data"
    },
    {
     "data": {
      "text/plain": [
       "69"
      ]
     },
     "metadata": {},
     "output_type": "display_data"
    },
    {
     "data": {
      "text/html": [
       "<div>\n",
       "<style scoped>\n",
       "    .dataframe tbody tr th:only-of-type {\n",
       "        vertical-align: middle;\n",
       "    }\n",
       "\n",
       "    .dataframe tbody tr th {\n",
       "        vertical-align: top;\n",
       "    }\n",
       "\n",
       "    .dataframe thead th {\n",
       "        text-align: right;\n",
       "    }\n",
       "</style>\n",
       "<table border=\"1\" class=\"dataframe\">\n",
       "  <thead>\n",
       "    <tr style=\"text-align: right;\">\n",
       "      <th></th>\n",
       "      <th>init_unemployed</th>\n",
       "      <th>temp_nationality</th>\n",
       "    </tr>\n",
       "  </thead>\n",
       "  <tbody>\n",
       "    <tr>\n",
       "      <th>init_unemployed</th>\n",
       "      <td>1.000000</td>\n",
       "      <td>-0.046418</td>\n",
       "    </tr>\n",
       "    <tr>\n",
       "      <th>temp_nationality</th>\n",
       "      <td>-0.046418</td>\n",
       "      <td>1.000000</td>\n",
       "    </tr>\n",
       "  </tbody>\n",
       "</table>\n",
       "</div>"
      ],
      "text/plain": [
       "                  init_unemployed  temp_nationality\n",
       "init_unemployed          1.000000         -0.046418\n",
       "temp_nationality        -0.046418          1.000000"
      ]
     },
     "metadata": {},
     "output_type": "display_data"
    },
    {
     "name": "stderr",
     "output_type": "stream",
     "text": [
      "D:\\Development-Tools\\Anaconda3\\lib\\site-packages\\ipykernel_launcher.py:5: SettingWithCopyWarning: \n",
      "A value is trying to be set on a copy of a slice from a DataFrame.\n",
      "Try using .loc[row_indexer,col_indexer] = value instead\n",
      "\n",
      "See the caveats in the documentation: https://pandas.pydata.org/pandas-docs/stable/user_guide/indexing.html#returning-a-view-versus-a-copy\n",
      "  \"\"\"\n"
     ]
    },
    {
     "data": {
      "text/plain": [
       "'8:'"
      ]
     },
     "metadata": {},
     "output_type": "display_data"
    },
    {
     "data": {
      "text/plain": [
       "1"
      ]
     },
     "metadata": {},
     "output_type": "display_data"
    },
    {
     "data": {
      "text/html": [
       "<div>\n",
       "<style scoped>\n",
       "    .dataframe tbody tr th:only-of-type {\n",
       "        vertical-align: middle;\n",
       "    }\n",
       "\n",
       "    .dataframe tbody tr th {\n",
       "        vertical-align: top;\n",
       "    }\n",
       "\n",
       "    .dataframe thead th {\n",
       "        text-align: right;\n",
       "    }\n",
       "</style>\n",
       "<table border=\"1\" class=\"dataframe\">\n",
       "  <thead>\n",
       "    <tr style=\"text-align: right;\">\n",
       "      <th></th>\n",
       "      <th>init_unemployed</th>\n",
       "      <th>type</th>\n",
       "    </tr>\n",
       "  </thead>\n",
       "  <tbody>\n",
       "    <tr>\n",
       "      <th>init_unemployed</th>\n",
       "      <td>NaN</td>\n",
       "      <td>NaN</td>\n",
       "    </tr>\n",
       "    <tr>\n",
       "      <th>type</th>\n",
       "      <td>NaN</td>\n",
       "      <td>NaN</td>\n",
       "    </tr>\n",
       "  </tbody>\n",
       "</table>\n",
       "</div>"
      ],
      "text/plain": [
       "                 init_unemployed  type\n",
       "init_unemployed              NaN   NaN\n",
       "type                         NaN   NaN"
      ]
     },
     "metadata": {},
     "output_type": "display_data"
    },
    {
     "data": {
      "text/plain": [
       "'8:'"
      ]
     },
     "metadata": {},
     "output_type": "display_data"
    },
    {
     "data": {
      "text/plain": [
       "1"
      ]
     },
     "metadata": {},
     "output_type": "display_data"
    },
    {
     "data": {
      "text/html": [
       "<div>\n",
       "<style scoped>\n",
       "    .dataframe tbody tr th:only-of-type {\n",
       "        vertical-align: middle;\n",
       "    }\n",
       "\n",
       "    .dataframe tbody tr th {\n",
       "        vertical-align: top;\n",
       "    }\n",
       "\n",
       "    .dataframe thead th {\n",
       "        text-align: right;\n",
       "    }\n",
       "</style>\n",
       "<table border=\"1\" class=\"dataframe\">\n",
       "  <thead>\n",
       "    <tr style=\"text-align: right;\">\n",
       "      <th></th>\n",
       "      <th>init_unemployed</th>\n",
       "      <th>temp_nationality</th>\n",
       "    </tr>\n",
       "  </thead>\n",
       "  <tbody>\n",
       "    <tr>\n",
       "      <th>init_unemployed</th>\n",
       "      <td>1.000000</td>\n",
       "      <td>0.009966</td>\n",
       "    </tr>\n",
       "    <tr>\n",
       "      <th>temp_nationality</th>\n",
       "      <td>0.009966</td>\n",
       "      <td>1.000000</td>\n",
       "    </tr>\n",
       "  </tbody>\n",
       "</table>\n",
       "</div>"
      ],
      "text/plain": [
       "                  init_unemployed  temp_nationality\n",
       "init_unemployed          1.000000          0.009966\n",
       "temp_nationality         0.009966          1.000000"
      ]
     },
     "metadata": {},
     "output_type": "display_data"
    },
    {
     "name": "stderr",
     "output_type": "stream",
     "text": [
      "D:\\Development-Tools\\Anaconda3\\lib\\site-packages\\ipykernel_launcher.py:5: SettingWithCopyWarning: \n",
      "A value is trying to be set on a copy of a slice from a DataFrame.\n",
      "Try using .loc[row_indexer,col_indexer] = value instead\n",
      "\n",
      "See the caveats in the documentation: https://pandas.pydata.org/pandas-docs/stable/user_guide/indexing.html#returning-a-view-versus-a-copy\n",
      "  \"\"\"\n"
     ]
    },
    {
     "data": {
      "text/plain": [
       "'9:'"
      ]
     },
     "metadata": {},
     "output_type": "display_data"
    },
    {
     "data": {
      "text/plain": [
       "5"
      ]
     },
     "metadata": {},
     "output_type": "display_data"
    },
    {
     "data": {
      "text/html": [
       "<div>\n",
       "<style scoped>\n",
       "    .dataframe tbody tr th:only-of-type {\n",
       "        vertical-align: middle;\n",
       "    }\n",
       "\n",
       "    .dataframe tbody tr th {\n",
       "        vertical-align: top;\n",
       "    }\n",
       "\n",
       "    .dataframe thead th {\n",
       "        text-align: right;\n",
       "    }\n",
       "</style>\n",
       "<table border=\"1\" class=\"dataframe\">\n",
       "  <thead>\n",
       "    <tr style=\"text-align: right;\">\n",
       "      <th></th>\n",
       "      <th>init_unemployed</th>\n",
       "      <th>type</th>\n",
       "    </tr>\n",
       "  </thead>\n",
       "  <tbody>\n",
       "    <tr>\n",
       "      <th>init_unemployed</th>\n",
       "      <td>1.00</td>\n",
       "      <td>-0.25</td>\n",
       "    </tr>\n",
       "    <tr>\n",
       "      <th>type</th>\n",
       "      <td>-0.25</td>\n",
       "      <td>1.00</td>\n",
       "    </tr>\n",
       "  </tbody>\n",
       "</table>\n",
       "</div>"
      ],
      "text/plain": [
       "                 init_unemployed  type\n",
       "init_unemployed             1.00 -0.25\n",
       "type                       -0.25  1.00"
      ]
     },
     "metadata": {},
     "output_type": "display_data"
    },
    {
     "data": {
      "text/plain": [
       "'9:'"
      ]
     },
     "metadata": {},
     "output_type": "display_data"
    },
    {
     "data": {
      "text/plain": [
       "5"
      ]
     },
     "metadata": {},
     "output_type": "display_data"
    },
    {
     "data": {
      "text/html": [
       "<div>\n",
       "<style scoped>\n",
       "    .dataframe tbody tr th:only-of-type {\n",
       "        vertical-align: middle;\n",
       "    }\n",
       "\n",
       "    .dataframe tbody tr th {\n",
       "        vertical-align: top;\n",
       "    }\n",
       "\n",
       "    .dataframe thead th {\n",
       "        text-align: right;\n",
       "    }\n",
       "</style>\n",
       "<table border=\"1\" class=\"dataframe\">\n",
       "  <thead>\n",
       "    <tr style=\"text-align: right;\">\n",
       "      <th></th>\n",
       "      <th>init_unemployed</th>\n",
       "      <th>temp_nationality</th>\n",
       "    </tr>\n",
       "  </thead>\n",
       "  <tbody>\n",
       "    <tr>\n",
       "      <th>init_unemployed</th>\n",
       "      <td>1.000000</td>\n",
       "      <td>0.010109</td>\n",
       "    </tr>\n",
       "    <tr>\n",
       "      <th>temp_nationality</th>\n",
       "      <td>0.010109</td>\n",
       "      <td>1.000000</td>\n",
       "    </tr>\n",
       "  </tbody>\n",
       "</table>\n",
       "</div>"
      ],
      "text/plain": [
       "                  init_unemployed  temp_nationality\n",
       "init_unemployed          1.000000          0.010109\n",
       "temp_nationality         0.010109          1.000000"
      ]
     },
     "metadata": {},
     "output_type": "display_data"
    },
    {
     "name": "stderr",
     "output_type": "stream",
     "text": [
      "D:\\Development-Tools\\Anaconda3\\lib\\site-packages\\ipykernel_launcher.py:5: SettingWithCopyWarning: \n",
      "A value is trying to be set on a copy of a slice from a DataFrame.\n",
      "Try using .loc[row_indexer,col_indexer] = value instead\n",
      "\n",
      "See the caveats in the documentation: https://pandas.pydata.org/pandas-docs/stable/user_guide/indexing.html#returning-a-view-versus-a-copy\n",
      "  \"\"\"\n"
     ]
    },
    {
     "data": {
      "text/plain": [
       "'10:'"
      ]
     },
     "metadata": {},
     "output_type": "display_data"
    },
    {
     "data": {
      "text/plain": [
       "3"
      ]
     },
     "metadata": {},
     "output_type": "display_data"
    },
    {
     "data": {
      "text/html": [
       "<div>\n",
       "<style scoped>\n",
       "    .dataframe tbody tr th:only-of-type {\n",
       "        vertical-align: middle;\n",
       "    }\n",
       "\n",
       "    .dataframe tbody tr th {\n",
       "        vertical-align: top;\n",
       "    }\n",
       "\n",
       "    .dataframe thead th {\n",
       "        text-align: right;\n",
       "    }\n",
       "</style>\n",
       "<table border=\"1\" class=\"dataframe\">\n",
       "  <thead>\n",
       "    <tr style=\"text-align: right;\">\n",
       "      <th></th>\n",
       "      <th>init_unemployed</th>\n",
       "      <th>type</th>\n",
       "    </tr>\n",
       "  </thead>\n",
       "  <tbody>\n",
       "    <tr>\n",
       "      <th>init_unemployed</th>\n",
       "      <td>1.0</td>\n",
       "      <td>NaN</td>\n",
       "    </tr>\n",
       "    <tr>\n",
       "      <th>type</th>\n",
       "      <td>NaN</td>\n",
       "      <td>NaN</td>\n",
       "    </tr>\n",
       "  </tbody>\n",
       "</table>\n",
       "</div>"
      ],
      "text/plain": [
       "                 init_unemployed  type\n",
       "init_unemployed              1.0   NaN\n",
       "type                         NaN   NaN"
      ]
     },
     "metadata": {},
     "output_type": "display_data"
    },
    {
     "data": {
      "text/plain": [
       "'10:'"
      ]
     },
     "metadata": {},
     "output_type": "display_data"
    },
    {
     "data": {
      "text/plain": [
       "3"
      ]
     },
     "metadata": {},
     "output_type": "display_data"
    },
    {
     "data": {
      "text/html": [
       "<div>\n",
       "<style scoped>\n",
       "    .dataframe tbody tr th:only-of-type {\n",
       "        vertical-align: middle;\n",
       "    }\n",
       "\n",
       "    .dataframe tbody tr th {\n",
       "        vertical-align: top;\n",
       "    }\n",
       "\n",
       "    .dataframe thead th {\n",
       "        text-align: right;\n",
       "    }\n",
       "</style>\n",
       "<table border=\"1\" class=\"dataframe\">\n",
       "  <thead>\n",
       "    <tr style=\"text-align: right;\">\n",
       "      <th></th>\n",
       "      <th>init_unemployed</th>\n",
       "      <th>temp_nationality</th>\n",
       "    </tr>\n",
       "  </thead>\n",
       "  <tbody>\n",
       "    <tr>\n",
       "      <th>init_unemployed</th>\n",
       "      <td>1.000000</td>\n",
       "      <td>-0.026496</td>\n",
       "    </tr>\n",
       "    <tr>\n",
       "      <th>temp_nationality</th>\n",
       "      <td>-0.026496</td>\n",
       "      <td>1.000000</td>\n",
       "    </tr>\n",
       "  </tbody>\n",
       "</table>\n",
       "</div>"
      ],
      "text/plain": [
       "                  init_unemployed  temp_nationality\n",
       "init_unemployed          1.000000         -0.026496\n",
       "temp_nationality        -0.026496          1.000000"
      ]
     },
     "metadata": {},
     "output_type": "display_data"
    },
    {
     "name": "stderr",
     "output_type": "stream",
     "text": [
      "D:\\Development-Tools\\Anaconda3\\lib\\site-packages\\ipykernel_launcher.py:5: SettingWithCopyWarning: \n",
      "A value is trying to be set on a copy of a slice from a DataFrame.\n",
      "Try using .loc[row_indexer,col_indexer] = value instead\n",
      "\n",
      "See the caveats in the documentation: https://pandas.pydata.org/pandas-docs/stable/user_guide/indexing.html#returning-a-view-versus-a-copy\n",
      "  \"\"\"\n"
     ]
    },
    {
     "data": {
      "text/plain": [
       "'11:'"
      ]
     },
     "metadata": {},
     "output_type": "display_data"
    },
    {
     "data": {
      "text/plain": [
       "3"
      ]
     },
     "metadata": {},
     "output_type": "display_data"
    },
    {
     "data": {
      "text/html": [
       "<div>\n",
       "<style scoped>\n",
       "    .dataframe tbody tr th:only-of-type {\n",
       "        vertical-align: middle;\n",
       "    }\n",
       "\n",
       "    .dataframe tbody tr th {\n",
       "        vertical-align: top;\n",
       "    }\n",
       "\n",
       "    .dataframe thead th {\n",
       "        text-align: right;\n",
       "    }\n",
       "</style>\n",
       "<table border=\"1\" class=\"dataframe\">\n",
       "  <thead>\n",
       "    <tr style=\"text-align: right;\">\n",
       "      <th></th>\n",
       "      <th>init_unemployed</th>\n",
       "      <th>type</th>\n",
       "    </tr>\n",
       "  </thead>\n",
       "  <tbody>\n",
       "    <tr>\n",
       "      <th>init_unemployed</th>\n",
       "      <td>NaN</td>\n",
       "      <td>NaN</td>\n",
       "    </tr>\n",
       "    <tr>\n",
       "      <th>type</th>\n",
       "      <td>NaN</td>\n",
       "      <td>NaN</td>\n",
       "    </tr>\n",
       "  </tbody>\n",
       "</table>\n",
       "</div>"
      ],
      "text/plain": [
       "                 init_unemployed  type\n",
       "init_unemployed              NaN   NaN\n",
       "type                         NaN   NaN"
      ]
     },
     "metadata": {},
     "output_type": "display_data"
    },
    {
     "data": {
      "text/plain": [
       "'11:'"
      ]
     },
     "metadata": {},
     "output_type": "display_data"
    },
    {
     "data": {
      "text/plain": [
       "3"
      ]
     },
     "metadata": {},
     "output_type": "display_data"
    },
    {
     "data": {
      "text/html": [
       "<div>\n",
       "<style scoped>\n",
       "    .dataframe tbody tr th:only-of-type {\n",
       "        vertical-align: middle;\n",
       "    }\n",
       "\n",
       "    .dataframe tbody tr th {\n",
       "        vertical-align: top;\n",
       "    }\n",
       "\n",
       "    .dataframe thead th {\n",
       "        text-align: right;\n",
       "    }\n",
       "</style>\n",
       "<table border=\"1\" class=\"dataframe\">\n",
       "  <thead>\n",
       "    <tr style=\"text-align: right;\">\n",
       "      <th></th>\n",
       "      <th>init_unemployed</th>\n",
       "      <th>temp_nationality</th>\n",
       "    </tr>\n",
       "  </thead>\n",
       "  <tbody>\n",
       "    <tr>\n",
       "      <th>init_unemployed</th>\n",
       "      <td>1.000000</td>\n",
       "      <td>0.017278</td>\n",
       "    </tr>\n",
       "    <tr>\n",
       "      <th>temp_nationality</th>\n",
       "      <td>0.017278</td>\n",
       "      <td>1.000000</td>\n",
       "    </tr>\n",
       "  </tbody>\n",
       "</table>\n",
       "</div>"
      ],
      "text/plain": [
       "                  init_unemployed  temp_nationality\n",
       "init_unemployed          1.000000          0.017278\n",
       "temp_nationality         0.017278          1.000000"
      ]
     },
     "metadata": {},
     "output_type": "display_data"
    },
    {
     "name": "stderr",
     "output_type": "stream",
     "text": [
      "D:\\Development-Tools\\Anaconda3\\lib\\site-packages\\ipykernel_launcher.py:5: SettingWithCopyWarning: \n",
      "A value is trying to be set on a copy of a slice from a DataFrame.\n",
      "Try using .loc[row_indexer,col_indexer] = value instead\n",
      "\n",
      "See the caveats in the documentation: https://pandas.pydata.org/pandas-docs/stable/user_guide/indexing.html#returning-a-view-versus-a-copy\n",
      "  \"\"\"\n"
     ]
    },
    {
     "data": {
      "text/plain": [
       "'12:'"
      ]
     },
     "metadata": {},
     "output_type": "display_data"
    },
    {
     "data": {
      "text/plain": [
       "3"
      ]
     },
     "metadata": {},
     "output_type": "display_data"
    },
    {
     "data": {
      "text/html": [
       "<div>\n",
       "<style scoped>\n",
       "    .dataframe tbody tr th:only-of-type {\n",
       "        vertical-align: middle;\n",
       "    }\n",
       "\n",
       "    .dataframe tbody tr th {\n",
       "        vertical-align: top;\n",
       "    }\n",
       "\n",
       "    .dataframe thead th {\n",
       "        text-align: right;\n",
       "    }\n",
       "</style>\n",
       "<table border=\"1\" class=\"dataframe\">\n",
       "  <thead>\n",
       "    <tr style=\"text-align: right;\">\n",
       "      <th></th>\n",
       "      <th>init_unemployed</th>\n",
       "      <th>type</th>\n",
       "    </tr>\n",
       "  </thead>\n",
       "  <tbody>\n",
       "    <tr>\n",
       "      <th>init_unemployed</th>\n",
       "      <td>1.0</td>\n",
       "      <td>NaN</td>\n",
       "    </tr>\n",
       "    <tr>\n",
       "      <th>type</th>\n",
       "      <td>NaN</td>\n",
       "      <td>NaN</td>\n",
       "    </tr>\n",
       "  </tbody>\n",
       "</table>\n",
       "</div>"
      ],
      "text/plain": [
       "                 init_unemployed  type\n",
       "init_unemployed              1.0   NaN\n",
       "type                         NaN   NaN"
      ]
     },
     "metadata": {},
     "output_type": "display_data"
    },
    {
     "data": {
      "text/plain": [
       "'12:'"
      ]
     },
     "metadata": {},
     "output_type": "display_data"
    },
    {
     "data": {
      "text/plain": [
       "3"
      ]
     },
     "metadata": {},
     "output_type": "display_data"
    },
    {
     "data": {
      "text/html": [
       "<div>\n",
       "<style scoped>\n",
       "    .dataframe tbody tr th:only-of-type {\n",
       "        vertical-align: middle;\n",
       "    }\n",
       "\n",
       "    .dataframe tbody tr th {\n",
       "        vertical-align: top;\n",
       "    }\n",
       "\n",
       "    .dataframe thead th {\n",
       "        text-align: right;\n",
       "    }\n",
       "</style>\n",
       "<table border=\"1\" class=\"dataframe\">\n",
       "  <thead>\n",
       "    <tr style=\"text-align: right;\">\n",
       "      <th></th>\n",
       "      <th>init_unemployed</th>\n",
       "      <th>temp_nationality</th>\n",
       "    </tr>\n",
       "  </thead>\n",
       "  <tbody>\n",
       "    <tr>\n",
       "      <th>init_unemployed</th>\n",
       "      <td>1.00000</td>\n",
       "      <td>-0.01599</td>\n",
       "    </tr>\n",
       "    <tr>\n",
       "      <th>temp_nationality</th>\n",
       "      <td>-0.01599</td>\n",
       "      <td>1.00000</td>\n",
       "    </tr>\n",
       "  </tbody>\n",
       "</table>\n",
       "</div>"
      ],
      "text/plain": [
       "                  init_unemployed  temp_nationality\n",
       "init_unemployed           1.00000          -0.01599\n",
       "temp_nationality         -0.01599           1.00000"
      ]
     },
     "metadata": {},
     "output_type": "display_data"
    },
    {
     "name": "stderr",
     "output_type": "stream",
     "text": [
      "D:\\Development-Tools\\Anaconda3\\lib\\site-packages\\ipykernel_launcher.py:5: SettingWithCopyWarning: \n",
      "A value is trying to be set on a copy of a slice from a DataFrame.\n",
      "Try using .loc[row_indexer,col_indexer] = value instead\n",
      "\n",
      "See the caveats in the documentation: https://pandas.pydata.org/pandas-docs/stable/user_guide/indexing.html#returning-a-view-versus-a-copy\n",
      "  \"\"\"\n"
     ]
    },
    {
     "data": {
      "text/plain": [
       "'13:'"
      ]
     },
     "metadata": {},
     "output_type": "display_data"
    },
    {
     "data": {
      "text/plain": [
       "1"
      ]
     },
     "metadata": {},
     "output_type": "display_data"
    },
    {
     "data": {
      "text/html": [
       "<div>\n",
       "<style scoped>\n",
       "    .dataframe tbody tr th:only-of-type {\n",
       "        vertical-align: middle;\n",
       "    }\n",
       "\n",
       "    .dataframe tbody tr th {\n",
       "        vertical-align: top;\n",
       "    }\n",
       "\n",
       "    .dataframe thead th {\n",
       "        text-align: right;\n",
       "    }\n",
       "</style>\n",
       "<table border=\"1\" class=\"dataframe\">\n",
       "  <thead>\n",
       "    <tr style=\"text-align: right;\">\n",
       "      <th></th>\n",
       "      <th>init_unemployed</th>\n",
       "      <th>type</th>\n",
       "    </tr>\n",
       "  </thead>\n",
       "  <tbody>\n",
       "    <tr>\n",
       "      <th>init_unemployed</th>\n",
       "      <td>NaN</td>\n",
       "      <td>NaN</td>\n",
       "    </tr>\n",
       "    <tr>\n",
       "      <th>type</th>\n",
       "      <td>NaN</td>\n",
       "      <td>NaN</td>\n",
       "    </tr>\n",
       "  </tbody>\n",
       "</table>\n",
       "</div>"
      ],
      "text/plain": [
       "                 init_unemployed  type\n",
       "init_unemployed              NaN   NaN\n",
       "type                         NaN   NaN"
      ]
     },
     "metadata": {},
     "output_type": "display_data"
    },
    {
     "data": {
      "text/plain": [
       "'13:'"
      ]
     },
     "metadata": {},
     "output_type": "display_data"
    },
    {
     "data": {
      "text/plain": [
       "1"
      ]
     },
     "metadata": {},
     "output_type": "display_data"
    },
    {
     "data": {
      "text/html": [
       "<div>\n",
       "<style scoped>\n",
       "    .dataframe tbody tr th:only-of-type {\n",
       "        vertical-align: middle;\n",
       "    }\n",
       "\n",
       "    .dataframe tbody tr th {\n",
       "        vertical-align: top;\n",
       "    }\n",
       "\n",
       "    .dataframe thead th {\n",
       "        text-align: right;\n",
       "    }\n",
       "</style>\n",
       "<table border=\"1\" class=\"dataframe\">\n",
       "  <thead>\n",
       "    <tr style=\"text-align: right;\">\n",
       "      <th></th>\n",
       "      <th>init_unemployed</th>\n",
       "      <th>temp_nationality</th>\n",
       "    </tr>\n",
       "  </thead>\n",
       "  <tbody>\n",
       "    <tr>\n",
       "      <th>init_unemployed</th>\n",
       "      <td>1.000000</td>\n",
       "      <td>0.009966</td>\n",
       "    </tr>\n",
       "    <tr>\n",
       "      <th>temp_nationality</th>\n",
       "      <td>0.009966</td>\n",
       "      <td>1.000000</td>\n",
       "    </tr>\n",
       "  </tbody>\n",
       "</table>\n",
       "</div>"
      ],
      "text/plain": [
       "                  init_unemployed  temp_nationality\n",
       "init_unemployed          1.000000          0.009966\n",
       "temp_nationality         0.009966          1.000000"
      ]
     },
     "metadata": {},
     "output_type": "display_data"
    }
   ],
   "source": [
    "# Here we will do something alittle different: \n",
    "# we will correlate each country with respect to the other countries to see the effect of that specific nationality\n",
    "\n",
    "for i in range(13):\n",
    "    temp['temp_nationality']=temp.nationality.apply(lambda x: 1 if x==i+1 else 2)\n",
    "    temp.reset_index(drop=True, inplace=True)\n",
    "    display(f'{i+1}:', temp[temp.nationality==i+1].shape[0], temp[temp.nationality==i+1][['init_unemployed', 'type']].corr())\n",
    "    display(f'{i+1}:', temp[temp.nationality==i+1].shape[0], temp[['init_unemployed','temp_nationality']].corr())\n",
    "\n",
    "# The most correlation was for 3 nationalities: Kenyan, Ugandan and Ghanaian. \n",
    "# However, the correlation is relatively low and we need to look deeper \n",
    "# There is a reasonable correlation of Ugandan with correlation score of 0.215 and type of maid relating to initial unemployment"
   ]
  },
  {
   "cell_type": "code",
   "execution_count": 721,
   "metadata": {
    "collapsed": true
   },
   "outputs": [
    {
     "name": "stderr",
     "output_type": "stream",
     "text": [
      "D:\\Development-Tools\\Anaconda3\\lib\\site-packages\\ipykernel_launcher.py:4: SettingWithCopyWarning: \n",
      "A value is trying to be set on a copy of a slice from a DataFrame.\n",
      "Try using .loc[row_indexer,col_indexer] = value instead\n",
      "\n",
      "See the caveats in the documentation: https://pandas.pydata.org/pandas-docs/stable/user_guide/indexing.html#returning-a-view-versus-a-copy\n",
      "  after removing the cwd from sys.path.\n"
     ]
    },
    {
     "data": {
      "text/plain": [
       "<matplotlib.axes._subplots.AxesSubplot at 0x2509af9c388>"
      ]
     },
     "execution_count": 721,
     "metadata": {},
     "output_type": "execute_result"
    },
    {
     "data": {
      "image/png": "[encoded data removed]",
      "text/plain": [
       "<Figure size 576x396 with 1 Axes>"
      ]
     },
     "metadata": {},
     "output_type": "display_data"
    },
    {
     "data": {
      "image/png": "[encoded data removed]",
      "text/plain": [
       "<Figure size 576x396 with 1 Axes>"
      ]
     },
     "metadata": {},
     "output_type": "display_data"
    }
   ],
   "source": [
    "# temp[temp.nationality==3 ][temp.type==1].groupby('init_unemployed').size()\n",
    "# temp[temp.nationality==5 ][temp.type==2].groupby('init_unemployed').size()\n",
    "\n",
    "temp['init_unemployed_cat']= temp['init_unemployed'].apply(lambda x: 1 if x<5 else 2 if x<10 else 3 if x<20 else 4 if x < 30 else 5)\n",
    "\n",
    "grouped_temp = temp.groupby(['type', 'init_unemployed_cat']).size()\\\n",
    "                .groupby(level=0).apply(lambda x:  100*x / x.sum())\n",
    "\n",
    "grouped_temp.unstack(0).plot.barh()\n",
    "grouped_temp.unstack(0).plot.barh()\n",
    "\n",
    "# for i in range(13):\n",
    "#     grouped_temp = temp[temp.nationality==i+1].groupby(['type', 'init_unemployed_cat']).size()\\\n",
    "#                     .groupby(level=0).apply(lambda x:  100*x / x.sum())\n",
    "#     grouped_temp.unstack(0).plot.barh()\n",
    "\n",
    "# What the below can show us, is that mainly type 2 maids (operator) usually take more time to be initially hired \n",
    "# (this can maybe justified due to less experience and word of mouth from the locals)"
   ]
  },
  {
   "cell_type": "markdown",
   "metadata": {},
   "source": [
    "# The data has to be understood right. \n",
    "\n",
    "### First: we notice that nationality is strongly correlated to the type like below: \n",
    "\n",
    "#### for example, almost all Nigerian nationality are WALKIN\n",
    "#### another example would be Ethiopian, and Kenyan where the vast Majority are FREEDOM_OPERATOR\n",
    "\n",
    "### Thus correlating to a type wouldn't be accurate without the correlation being underlined as a nationality correlation (has to be double checked)\n",
    "### Therefore, we should look deep into our data to make any assumption"
   ]
  },
  {
   "cell_type": "markdown",
   "metadata": {},
   "source": [
    "# Let us do a comprehensive correlation and see what we can find"
   ]
  },
  {
   "cell_type": "code",
   "execution_count": 723,
   "metadata": {
    "scrolled": true
   },
   "outputs": [
    {
     "data": {
      "application/vnd.jupyter.widget-view+json": {
       "model_id": "6957952247d84231a32209b2eca56ff4",
       "version_major": 2,
       "version_minor": 0
      },
      "text/plain": [
       "HBox(children=(FloatProgress(value=0.0, description='Summarize dataset', max=27.0, style=ProgressStyle(descrip…"
      ]
     },
     "metadata": {},
     "output_type": "display_data"
    },
    {
     "name": "stdout",
     "output_type": "stream",
     "text": [
      "\n"
     ]
    },
    {
     "data": {
      "application/vnd.jupyter.widget-view+json": {
       "model_id": "884e26a445474c0d827af338903b5781",
       "version_major": 2,
       "version_minor": 0
      },
      "text/plain": [
       "HBox(children=(FloatProgress(value=0.0, description='Generate report structure', max=1.0, style=ProgressStyle(…"
      ]
     },
     "metadata": {},
     "output_type": "display_data"
    },
    {
     "name": "stdout",
     "output_type": "stream",
     "text": [
      "\n"
     ]
    },
    {
     "data": {
      "application/vnd.jupyter.widget-view+json": {
       "model_id": "",
       "version_major": 2,
       "version_minor": 0
      },
      "text/plain": [
       "HBox(children=(FloatProgress(value=0.0, description='Render widgets', max=1.0, style=ProgressStyle(description…"
      ]
     },
     "metadata": {},
     "output_type": "display_data"
    },
    {
     "data": {
      "application/vnd.jupyter.widget-view+json": {
       "model_id": "1f8b009de0904c478a4404d45e5dade5",
       "version_major": 2,
       "version_minor": 0
      },
      "text/plain": [
       "VBox(children=(Tab(children=(Tab(children=(GridBox(children=(VBox(children=(GridspecLayout(children=(HTML(valu…"
      ]
     },
     "metadata": {},
     "output_type": "display_data"
    }
   ],
   "source": [
    "temp= df[['nationality', 'type', 'days_hired', 'days_unemployed',\n",
    "       'complaint_no','hired_no','canceled_no', 'replaced_no', 'init_unemployed',\n",
    "       'month_joined', 'age_group', 'complaint_category','interview_fail_no']].copy()\n",
    "\n",
    "temp['type']= temp.type.apply(lambda x: 1 if x=='WALKIN' else 2)\n",
    "\n",
    "categorize = {\"nationality\":     {'Kenyan': 1, 'Ethiopian': 2, 'Cameroonian': 3, 'Ivorian': 4, 'Ugandan': 5,\n",
    "       'Nigerian': 6, 'Ghanaian': 7, 'Togolese': 8, 'Sierra Leonean': 9, 'Zimbabwean': 10, 'Gambian': 11, 'Congolese': 12, 'Liberian': 13}}\n",
    "temp.replace(categorize, inplace=True)\n",
    "temp.reset_index(drop=True, inplace=True)\n",
    "\n",
    "\n",
    "profile = ProfileReport(temp, explorative=True)\n",
    "profile.to_widgets()"
   ]
  },
  {
   "attachments": {
    "Capture.PNG": {
     "image/png": "[encoded data removed]"
    }
   },
   "cell_type": "markdown",
   "metadata": {},
   "source": [
    "![Capture.PNG](attachment:Capture.PNG)"
   ]
  },
  {
   "cell_type": "markdown",
   "metadata": {},
   "source": [
    "## The comprehensive correlation We have constructed in the diagram shows us several correlations which we have have already explored, and some new ones we still need to explore. (We use Phi_K correlation which is an improvement on the Pearson's correlation hyposisis) \n",
    "\n",
    "- ### The obvious correlation is between the type and nationality which we have explored earlier \n",
    "- ### We need to thouroly explore the correlation between the month joined and type/nationality\n",
    "- ### There is a slight correlation between type and days_hired which can be a small reflection of customer satisfaction\n",
    "- ### there is a trivial correlation between complaint_category and replaced_no/canceled_no"
   ]
  },
  {
   "cell_type": "code",
   "execution_count": 524,
   "metadata": {
    "scrolled": true
   },
   "outputs": [
    {
     "data": {
      "text/html": [
       "<div>\n",
       "<style scoped>\n",
       "    .dataframe tbody tr th:only-of-type {\n",
       "        vertical-align: middle;\n",
       "    }\n",
       "\n",
       "    .dataframe tbody tr th {\n",
       "        vertical-align: top;\n",
       "    }\n",
       "\n",
       "    .dataframe thead th {\n",
       "        text-align: right;\n",
       "    }\n",
       "</style>\n",
       "<table border=\"1\" class=\"dataframe\">\n",
       "  <thead>\n",
       "    <tr style=\"text-align: right;\">\n",
       "      <th></th>\n",
       "      <th>nationality</th>\n",
       "      <th>count_x</th>\n",
       "      <th>percent_x</th>\n",
       "      <th>count_y</th>\n",
       "      <th>percent_y</th>\n",
       "      <th>percent_rejections</th>\n",
       "    </tr>\n",
       "  </thead>\n",
       "  <tbody>\n",
       "    <tr>\n",
       "      <th>0</th>\n",
       "      <td>Ethiopian</td>\n",
       "      <td>393</td>\n",
       "      <td>0.263581</td>\n",
       "      <td>241</td>\n",
       "      <td>0.229743</td>\n",
       "      <td>0.613232</td>\n",
       "    </tr>\n",
       "    <tr>\n",
       "      <th>1</th>\n",
       "      <td>Kenyan</td>\n",
       "      <td>380</td>\n",
       "      <td>0.254863</td>\n",
       "      <td>288</td>\n",
       "      <td>0.274547</td>\n",
       "      <td>0.757895</td>\n",
       "    </tr>\n",
       "    <tr>\n",
       "      <th>2</th>\n",
       "      <td>Ugandan</td>\n",
       "      <td>321</td>\n",
       "      <td>0.215292</td>\n",
       "      <td>121</td>\n",
       "      <td>0.115348</td>\n",
       "      <td>0.376947</td>\n",
       "    </tr>\n",
       "    <tr>\n",
       "      <th>3</th>\n",
       "      <td>Cameroonian</td>\n",
       "      <td>169</td>\n",
       "      <td>0.113347</td>\n",
       "      <td>133</td>\n",
       "      <td>0.126787</td>\n",
       "      <td>0.786982</td>\n",
       "    </tr>\n",
       "    <tr>\n",
       "      <th>4</th>\n",
       "      <td>Nigerian</td>\n",
       "      <td>126</td>\n",
       "      <td>0.084507</td>\n",
       "      <td>177</td>\n",
       "      <td>0.168732</td>\n",
       "      <td>1.404762</td>\n",
       "    </tr>\n",
       "  </tbody>\n",
       "</table>\n",
       "</div>"
      ],
      "text/plain": [
       "   nationality  count_x  percent_x  count_y  percent_y  percent_rejections\n",
       "0    Ethiopian      393   0.263581      241   0.229743            0.613232\n",
       "1       Kenyan      380   0.254863      288   0.274547            0.757895\n",
       "2      Ugandan      321   0.215292      121   0.115348            0.376947\n",
       "3  Cameroonian      169   0.113347      133   0.126787            0.786982\n",
       "4     Nigerian      126   0.084507      177   0.168732            1.404762"
      ]
     },
     "metadata": {},
     "output_type": "display_data"
    },
    {
     "data": {
      "text/html": [
       "<div>\n",
       "<style scoped>\n",
       "    .dataframe tbody tr th:only-of-type {\n",
       "        vertical-align: middle;\n",
       "    }\n",
       "\n",
       "    .dataframe tbody tr th {\n",
       "        vertical-align: top;\n",
       "    }\n",
       "\n",
       "    .dataframe thead th {\n",
       "        text-align: right;\n",
       "    }\n",
       "</style>\n",
       "<table border=\"1\" class=\"dataframe\">\n",
       "  <thead>\n",
       "    <tr style=\"text-align: right;\">\n",
       "      <th></th>\n",
       "      <th>id</th>\n",
       "      <th>age</th>\n",
       "      <th>nationality</th>\n",
       "      <th>type</th>\n",
       "      <th>days_hired</th>\n",
       "      <th>days_unemployed</th>\n",
       "      <th>complaint_no</th>\n",
       "      <th>date_left</th>\n",
       "      <th>status</th>\n",
       "      <th>termination_mode</th>\n",
       "      <th>...</th>\n",
       "      <th>interviews_no</th>\n",
       "      <th>interviews_succ_no</th>\n",
       "      <th>hired_no</th>\n",
       "      <th>canceled_no</th>\n",
       "      <th>replaced_no</th>\n",
       "      <th>date_hired</th>\n",
       "      <th>init_unemployed</th>\n",
       "      <th>month_joined</th>\n",
       "      <th>age_group</th>\n",
       "      <th>complaint_category</th>\n",
       "    </tr>\n",
       "  </thead>\n",
       "  <tbody>\n",
       "    <tr>\n",
       "      <th>13</th>\n",
       "      <td>13561</td>\n",
       "      <td>35.0</td>\n",
       "      <td>Kenyan</td>\n",
       "      <td>FREEDOM_OPERATOR</td>\n",
       "      <td>0</td>\n",
       "      <td>4</td>\n",
       "      <td>0</td>\n",
       "      <td>2019-02-28 09:31:37</td>\n",
       "      <td>EMPLOYEMENT_TERMINATED</td>\n",
       "      <td>QUIT</td>\n",
       "      <td>...</td>\n",
       "      <td>0</td>\n",
       "      <td>0</td>\n",
       "      <td>0</td>\n",
       "      <td>0</td>\n",
       "      <td>0</td>\n",
       "      <td>NaN</td>\n",
       "      <td>NaN</td>\n",
       "      <td>0</td>\n",
       "      <td>3</td>\n",
       "      <td>1</td>\n",
       "    </tr>\n",
       "    <tr>\n",
       "      <th>55</th>\n",
       "      <td>13692</td>\n",
       "      <td>30.0</td>\n",
       "      <td>Kenyan</td>\n",
       "      <td>FREEDOM_OPERATOR</td>\n",
       "      <td>0</td>\n",
       "      <td>23</td>\n",
       "      <td>0</td>\n",
       "      <td>2019-03-17 13:00:21</td>\n",
       "      <td>EMPLOYEMENT_TERMINATED</td>\n",
       "      <td>FIRED</td>\n",
       "      <td>...</td>\n",
       "      <td>0</td>\n",
       "      <td>0</td>\n",
       "      <td>0</td>\n",
       "      <td>0</td>\n",
       "      <td>0</td>\n",
       "      <td>NaN</td>\n",
       "      <td>NaN</td>\n",
       "      <td>3</td>\n",
       "      <td>3</td>\n",
       "      <td>1</td>\n",
       "    </tr>\n",
       "    <tr>\n",
       "      <th>74</th>\n",
       "      <td>13746</td>\n",
       "      <td>42.0</td>\n",
       "      <td>Kenyan</td>\n",
       "      <td>FREEDOM_OPERATOR</td>\n",
       "      <td>0</td>\n",
       "      <td>40</td>\n",
       "      <td>0</td>\n",
       "      <td>2019-04-07 00:00:00</td>\n",
       "      <td>EMPLOYEMENT_TERMINATED</td>\n",
       "      <td>FIRED</td>\n",
       "      <td>...</td>\n",
       "      <td>1</td>\n",
       "      <td>0</td>\n",
       "      <td>0</td>\n",
       "      <td>0</td>\n",
       "      <td>0</td>\n",
       "      <td>NaN</td>\n",
       "      <td>NaN</td>\n",
       "      <td>3</td>\n",
       "      <td>3</td>\n",
       "      <td>1</td>\n",
       "    </tr>\n",
       "    <tr>\n",
       "      <th>78</th>\n",
       "      <td>13775</td>\n",
       "      <td>39.0</td>\n",
       "      <td>Kenyan</td>\n",
       "      <td>FREEDOM_OPERATOR</td>\n",
       "      <td>0</td>\n",
       "      <td>10</td>\n",
       "      <td>0</td>\n",
       "      <td>2019-02-24 12:29:56</td>\n",
       "      <td>EMPLOYEMENT_TERMINATED</td>\n",
       "      <td>QUIT</td>\n",
       "      <td>...</td>\n",
       "      <td>1</td>\n",
       "      <td>0</td>\n",
       "      <td>0</td>\n",
       "      <td>0</td>\n",
       "      <td>0</td>\n",
       "      <td>NaN</td>\n",
       "      <td>NaN</td>\n",
       "      <td>0</td>\n",
       "      <td>3</td>\n",
       "      <td>1</td>\n",
       "    </tr>\n",
       "    <tr>\n",
       "      <th>80</th>\n",
       "      <td>13777</td>\n",
       "      <td>36.0</td>\n",
       "      <td>Kenyan</td>\n",
       "      <td>FREEDOM_OPERATOR</td>\n",
       "      <td>0</td>\n",
       "      <td>29</td>\n",
       "      <td>0</td>\n",
       "      <td>2019-04-02 11:13:00</td>\n",
       "      <td>EMPLOYEMENT_TERMINATED</td>\n",
       "      <td>FIRED</td>\n",
       "      <td>...</td>\n",
       "      <td>1</td>\n",
       "      <td>0</td>\n",
       "      <td>0</td>\n",
       "      <td>0</td>\n",
       "      <td>0</td>\n",
       "      <td>NaN</td>\n",
       "      <td>NaN</td>\n",
       "      <td>3</td>\n",
       "      <td>3</td>\n",
       "      <td>1</td>\n",
       "    </tr>\n",
       "    <tr>\n",
       "      <th>...</th>\n",
       "      <td>...</td>\n",
       "      <td>...</td>\n",
       "      <td>...</td>\n",
       "      <td>...</td>\n",
       "      <td>...</td>\n",
       "      <td>...</td>\n",
       "      <td>...</td>\n",
       "      <td>...</td>\n",
       "      <td>...</td>\n",
       "      <td>...</td>\n",
       "      <td>...</td>\n",
       "      <td>...</td>\n",
       "      <td>...</td>\n",
       "      <td>...</td>\n",
       "      <td>...</td>\n",
       "      <td>...</td>\n",
       "      <td>...</td>\n",
       "      <td>...</td>\n",
       "      <td>...</td>\n",
       "      <td>...</td>\n",
       "      <td>...</td>\n",
       "    </tr>\n",
       "    <tr>\n",
       "      <th>1724</th>\n",
       "      <td>19973</td>\n",
       "      <td>31.0</td>\n",
       "      <td>Ugandan</td>\n",
       "      <td>WALKIN</td>\n",
       "      <td>0</td>\n",
       "      <td>2</td>\n",
       "      <td>0</td>\n",
       "      <td>2020-01-08 00:00:00</td>\n",
       "      <td>EMPLOYEMENT_TERMINATED</td>\n",
       "      <td>QUIT</td>\n",
       "      <td>...</td>\n",
       "      <td>0</td>\n",
       "      <td>0</td>\n",
       "      <td>0</td>\n",
       "      <td>0</td>\n",
       "      <td>0</td>\n",
       "      <td>NaN</td>\n",
       "      <td>NaN</td>\n",
       "      <td>0</td>\n",
       "      <td>3</td>\n",
       "      <td>1</td>\n",
       "    </tr>\n",
       "    <tr>\n",
       "      <th>1779</th>\n",
       "      <td>20129</td>\n",
       "      <td>28.0</td>\n",
       "      <td>Ethiopian</td>\n",
       "      <td>FREEDOM_OPERATOR</td>\n",
       "      <td>0</td>\n",
       "      <td>16</td>\n",
       "      <td>0</td>\n",
       "      <td>2020-03-13 10:00:02</td>\n",
       "      <td>EMPLOYEMENT_TERMINATED</td>\n",
       "      <td>QUIT</td>\n",
       "      <td>...</td>\n",
       "      <td>15</td>\n",
       "      <td>0</td>\n",
       "      <td>0</td>\n",
       "      <td>0</td>\n",
       "      <td>0</td>\n",
       "      <td>NaN</td>\n",
       "      <td>NaN</td>\n",
       "      <td>3</td>\n",
       "      <td>2</td>\n",
       "      <td>1</td>\n",
       "    </tr>\n",
       "    <tr>\n",
       "      <th>2113</th>\n",
       "      <td>21068</td>\n",
       "      <td>37.0</td>\n",
       "      <td>Nigerian</td>\n",
       "      <td>WALKIN</td>\n",
       "      <td>0</td>\n",
       "      <td>1</td>\n",
       "      <td>0</td>\n",
       "      <td>2020-04-09 00:00:00</td>\n",
       "      <td>VISA_UNSUCCESSFUL</td>\n",
       "      <td>QUIT</td>\n",
       "      <td>...</td>\n",
       "      <td>0</td>\n",
       "      <td>0</td>\n",
       "      <td>0</td>\n",
       "      <td>0</td>\n",
       "      <td>0</td>\n",
       "      <td>NaN</td>\n",
       "      <td>NaN</td>\n",
       "      <td>0</td>\n",
       "      <td>3</td>\n",
       "      <td>1</td>\n",
       "    </tr>\n",
       "    <tr>\n",
       "      <th>2179</th>\n",
       "      <td>21161</td>\n",
       "      <td>28.0</td>\n",
       "      <td>Nigerian</td>\n",
       "      <td>WALKIN</td>\n",
       "      <td>0</td>\n",
       "      <td>26</td>\n",
       "      <td>0</td>\n",
       "      <td>2020-04-19 00:00:00</td>\n",
       "      <td>EMPLOYEMENT_TERMINATED</td>\n",
       "      <td>FIRED</td>\n",
       "      <td>...</td>\n",
       "      <td>0</td>\n",
       "      <td>0</td>\n",
       "      <td>0</td>\n",
       "      <td>0</td>\n",
       "      <td>0</td>\n",
       "      <td>NaN</td>\n",
       "      <td>NaN</td>\n",
       "      <td>4</td>\n",
       "      <td>2</td>\n",
       "      <td>1</td>\n",
       "    </tr>\n",
       "    <tr>\n",
       "      <th>2255</th>\n",
       "      <td>21297</td>\n",
       "      <td>41.0</td>\n",
       "      <td>Ugandan</td>\n",
       "      <td>WALKIN</td>\n",
       "      <td>0</td>\n",
       "      <td>8</td>\n",
       "      <td>0</td>\n",
       "      <td>2020-04-19 00:00:00</td>\n",
       "      <td>EMPLOYEMENT_TERMINATED</td>\n",
       "      <td>FIRED</td>\n",
       "      <td>...</td>\n",
       "      <td>0</td>\n",
       "      <td>0</td>\n",
       "      <td>0</td>\n",
       "      <td>0</td>\n",
       "      <td>0</td>\n",
       "      <td>NaN</td>\n",
       "      <td>NaN</td>\n",
       "      <td>4</td>\n",
       "      <td>3</td>\n",
       "      <td>1</td>\n",
       "    </tr>\n",
       "  </tbody>\n",
       "</table>\n",
       "<p>63 rows × 21 columns</p>\n",
       "</div>"
      ],
      "text/plain": [
       "         id   age nationality              type  days_hired  days_unemployed  \\\n",
       "13    13561  35.0      Kenyan  FREEDOM_OPERATOR           0                4   \n",
       "55    13692  30.0      Kenyan  FREEDOM_OPERATOR           0               23   \n",
       "74    13746  42.0      Kenyan  FREEDOM_OPERATOR           0               40   \n",
       "78    13775  39.0      Kenyan  FREEDOM_OPERATOR           0               10   \n",
       "80    13777  36.0      Kenyan  FREEDOM_OPERATOR           0               29   \n",
       "...     ...   ...         ...               ...         ...              ...   \n",
       "1724  19973  31.0     Ugandan            WALKIN           0                2   \n",
       "1779  20129  28.0   Ethiopian  FREEDOM_OPERATOR           0               16   \n",
       "2113  21068  37.0    Nigerian            WALKIN           0                1   \n",
       "2179  21161  28.0    Nigerian            WALKIN           0               26   \n",
       "2255  21297  41.0     Ugandan            WALKIN           0                8   \n",
       "\n",
       "      complaint_no            date_left                  status  \\\n",
       "13               0  2019-02-28 09:31:37  EMPLOYEMENT_TERMINATED   \n",
       "55               0  2019-03-17 13:00:21  EMPLOYEMENT_TERMINATED   \n",
       "74               0  2019-04-07 00:00:00  EMPLOYEMENT_TERMINATED   \n",
       "78               0  2019-02-24 12:29:56  EMPLOYEMENT_TERMINATED   \n",
       "80               0  2019-04-02 11:13:00  EMPLOYEMENT_TERMINATED   \n",
       "...            ...                  ...                     ...   \n",
       "1724             0  2020-01-08 00:00:00  EMPLOYEMENT_TERMINATED   \n",
       "1779             0  2020-03-13 10:00:02  EMPLOYEMENT_TERMINATED   \n",
       "2113             0  2020-04-09 00:00:00       VISA_UNSUCCESSFUL   \n",
       "2179             0  2020-04-19 00:00:00  EMPLOYEMENT_TERMINATED   \n",
       "2255             0  2020-04-19 00:00:00  EMPLOYEMENT_TERMINATED   \n",
       "\n",
       "     termination_mode  ... interviews_no  interviews_succ_no  hired_no  \\\n",
       "13               QUIT  ...             0                   0         0   \n",
       "55              FIRED  ...             0                   0         0   \n",
       "74              FIRED  ...             1                   0         0   \n",
       "78               QUIT  ...             1                   0         0   \n",
       "80              FIRED  ...             1                   0         0   \n",
       "...               ...  ...           ...                 ...       ...   \n",
       "1724             QUIT  ...             0                   0         0   \n",
       "1779             QUIT  ...            15                   0         0   \n",
       "2113             QUIT  ...             0                   0         0   \n",
       "2179            FIRED  ...             0                   0         0   \n",
       "2255            FIRED  ...             0                   0         0   \n",
       "\n",
       "      canceled_no  replaced_no  date_hired init_unemployed  month_joined  \\\n",
       "13              0            0         NaN             NaN             0   \n",
       "55              0            0         NaN             NaN             3   \n",
       "74              0            0         NaN             NaN             3   \n",
       "78              0            0         NaN             NaN             0   \n",
       "80              0            0         NaN             NaN             3   \n",
       "...           ...          ...         ...             ...           ...   \n",
       "1724            0            0         NaN             NaN             0   \n",
       "1779            0            0         NaN             NaN             3   \n",
       "2113            0            0         NaN             NaN             0   \n",
       "2179            0            0         NaN             NaN             4   \n",
       "2255            0            0         NaN             NaN             4   \n",
       "\n",
       "      age_group  complaint_category  \n",
       "13            3                   1  \n",
       "55            3                   1  \n",
       "74            3                   1  \n",
       "78            3                   1  \n",
       "80            3                   1  \n",
       "...         ...                 ...  \n",
       "1724          3                   1  \n",
       "1779          2                   1  \n",
       "2113          3                   1  \n",
       "2179          2                   1  \n",
       "2255          3                   1  \n",
       "\n",
       "[63 rows x 21 columns]"
      ]
     },
     "execution_count": 524,
     "metadata": {},
     "output_type": "execute_result"
    }
   ],
   "source": [
    "temp1=df_terminated.groupby('nationality').size().reset_index().rename(columns={0:'count'}).sort_values('count', ascending=False)\n",
    "temp1['percent']= temp1['count'].transform(lambda x: x/sum(x))\n",
    "\n",
    "temp2=df.groupby('nationality').size().reset_index().rename(columns={0:'count'}).sort_values('count', ascending=False)\n",
    "temp2['percent']= temp2['count'].transform(lambda x: x/sum(x))\n",
    "\n",
    "temp3 = pd.merge(temp1, temp2, on='nationality', how='inner')\n",
    "\n",
    "temp3['percent_rejections']= temp3.apply(lambda x: x.count_y/x.count_x, axis= 1)\n",
    "display(temp3.head(5))\n",
    "# Out of the top 5 countries, Ethiopian and Nigerian are among the top dopped out rate before an interview\n",
    "\n",
    "\n",
    "# We already established that this behavior has no correlation to the type of the maid\n",
    "\n",
    "\n",
    "\n",
    "# We can divide this dataset in to termination with days_unemployed>0, and days_unemployed=0\n",
    "\n",
    "df_terminated[~df_terminated.apply(lambda x: x.days_hired==0 and x.days_unemployed==0 , axis=1)]"
   ]
  },
  {
   "cell_type": "code",
   "execution_count": 746,
   "metadata": {
    "scrolled": false
   },
   "outputs": [
    {
     "data": {
      "image/png": "[encoded data removed]",
      "text/plain": [
       "<Figure size 576x396 with 1 Axes>"
      ]
     },
     "metadata": {},
     "output_type": "display_data"
    }
   ],
   "source": [
    "import numpy as np\n",
    "import matplotlib.pyplot as plt\n",
    "plt.style.use('seaborn-deep')\n",
    "\n",
    "test= temp[['complaint_no', 'type']].copy()\n",
    "x = test[test.type==1].complaint_no\n",
    "y = test[test.type==2].complaint_no\n",
    "bins = np.linspace(0, 40, 7)\n",
    "\n",
    "plt.hist([x, y], bins, label=['Walkin', 'Operator'], density=True) # normalize results\n",
    "plt.legend(loc='upper right')\n",
    "plt.show()\n",
    "\n",
    "# In general we can see that Operator Maids has less (high number of complaints per observation) cases compared to the walkin maids\n"
   ]
  },
  {
   "cell_type": "code",
   "execution_count": 747,
   "metadata": {
    "scrolled": true
   },
   "outputs": [
    {
     "data": {
      "image/png": "[encoded data removed]",
      "text/plain": [
       "<Figure size 576x396 with 1 Axes>"
      ]
     },
     "metadata": {},
     "output_type": "display_data"
    }
   ],
   "source": [
    "plt.style.use('seaborn-deep')\n",
    "\n",
    "test= temp[['canceled_no', 'type']].copy()\n",
    "x = test[test.type==1].canceled_no\n",
    "y = test[test.type==2].canceled_no\n",
    "bins = np.linspace(0, 5, 5)\n",
    "\n",
    "plt.hist([x, y], bins, label=['Walkin', 'Operator'], density=True) # normalize results\n",
    "plt.legend(loc='upper right')\n",
    "plt.show()\n",
    "\n",
    "# Cancellation rate is very similar between the two types "
   ]
  },
  {
   "cell_type": "code",
   "execution_count": 750,
   "metadata": {},
   "outputs": [
    {
     "data": {
      "text/plain": [
       "Index(['nationality', 'type', 'days_hired', 'days_unemployed', 'complaint_no',\n",
       "       'hired_no', 'canceled_no', 'replaced_no', 'init_unemployed',\n",
       "       'month_joined', 'age_group', 'complaint_category', 'interview_fail_no'],\n",
       "      dtype='object')"
      ]
     },
     "execution_count": 750,
     "metadata": {},
     "output_type": "execute_result"
    }
   ],
   "source": [
    "temp.columns"
   ]
  },
  {
   "cell_type": "code",
   "execution_count": 762,
   "metadata": {},
   "outputs": [
    {
     "data": {
      "image/png": "[encoded data removed]",
      "text/plain": [
       "<Figure size 576x396 with 1 Axes>"
      ]
     },
     "metadata": {},
     "output_type": "display_data"
    }
   ],
   "source": [
    "plt.style.use('seaborn-deep')\n",
    "\n",
    "test= temp[['interview_fail_no', 'type']].copy()\n",
    "x = test[test.type==1].interview_fail_no\n",
    "y = test[test.type==2].interview_fail_no\n",
    "bins = np.linspace(0, 60, 10)\n",
    "\n",
    "plt.hist([x, y], bins, label=['Walkin', 'Operator'], density=True) # normalize results\n",
    "plt.legend(loc='upper right')\n",
    "plt.show()\n",
    "\n",
    "# We can correlate below a higher rate of failed interviews to the Operator, but let's investigate below \n"
   ]
  },
  {
   "cell_type": "code",
   "execution_count": 765,
   "metadata": {},
   "outputs": [
    {
     "data": {
      "image/png": "[encoded data removed]",
      "text/plain": [
       "<Figure size 576x396 with 1 Axes>"
      ]
     },
     "metadata": {},
     "output_type": "display_data"
    }
   ],
   "source": [
    "plt.style.use('seaborn-deep')\n",
    "\n",
    "test= temp[['interview_fail_no', 'age_group']].copy()\n",
    "x = test[test.age_group==1].interview_fail_no\n",
    "y = test[test.age_group==2].interview_fail_no\n",
    "z = test[test.age_group==3].interview_fail_no\n",
    "bins = np.linspace(0, 60, 10)\n",
    "\n",
    "plt.hist([x, y, z], bins, label=['<24', '24>x>30', '>30'], density=True) # normalize results\n",
    "plt.legend(loc='upper right')\n",
    "plt.show()\n",
    "# There is little correlation to the failed interview number due to age_group"
   ]
  },
  {
   "cell_type": "code",
   "execution_count": 590,
   "metadata": {
    "collapsed": true
   },
   "outputs": [
    {
     "data": {
      "text/plain": [
       "<matplotlib.axes._subplots.AxesSubplot at 0x250951be588>"
      ]
     },
     "execution_count": 590,
     "metadata": {},
     "output_type": "execute_result"
    },
    {
     "data": {
      "image/png": "[encoded data removed]",
      "text/plain": [
       "<Figure size 576x396 with 1 Axes>"
      ]
     },
     "metadata": {},
     "output_type": "display_data"
    }
   ],
   "source": [
    "# display(test.groupby(['nationality', 'type']).size())\n",
    "\n",
    "s=test.groupby(['nationality', 'type']).size()#.plot(style= 'o', rot= 90)\n",
    "# display (s)\n",
    "\n",
    "# plt.style.use('seaborn-deep')\n",
    "\n",
    "# x = test[test.type=='WALKIN'].nationality\n",
    "# y = test[test.type=='FREEDOM_OPERATOR'].nationality\n",
    "\n",
    "s.plot.bar(rot=90) # normalize results"
   ]
  },
  {
   "cell_type": "code",
   "execution_count": 540,
   "metadata": {},
   "outputs": [
    {
     "data": {
      "text/html": [
       "<div>\n",
       "<style scoped>\n",
       "    .dataframe tbody tr th:only-of-type {\n",
       "        vertical-align: middle;\n",
       "    }\n",
       "\n",
       "    .dataframe tbody tr th {\n",
       "        vertical-align: top;\n",
       "    }\n",
       "\n",
       "    .dataframe thead th {\n",
       "        text-align: right;\n",
       "    }\n",
       "</style>\n",
       "<table border=\"1\" class=\"dataframe\">\n",
       "  <thead>\n",
       "    <tr style=\"text-align: right;\">\n",
       "      <th></th>\n",
       "      <th>id</th>\n",
       "      <th>age</th>\n",
       "      <th>nationality</th>\n",
       "      <th>type</th>\n",
       "      <th>days_hired</th>\n",
       "      <th>days_unemployed</th>\n",
       "      <th>complaint_no</th>\n",
       "      <th>status</th>\n",
       "      <th>termination_mode</th>\n",
       "      <th>interviews_no</th>\n",
       "      <th>interviews_succ_no</th>\n",
       "      <th>hired_no</th>\n",
       "      <th>canceled_no</th>\n",
       "      <th>replaced_no</th>\n",
       "      <th>init_unemployed</th>\n",
       "      <th>month_joined</th>\n",
       "      <th>age_group</th>\n",
       "      <th>complaint_category</th>\n",
       "    </tr>\n",
       "  </thead>\n",
       "  <tbody>\n",
       "    <tr>\n",
       "      <th>1</th>\n",
       "      <td>13515</td>\n",
       "      <td>29.0</td>\n",
       "      <td>Ethiopian</td>\n",
       "      <td>FREEDOM_OPERATOR</td>\n",
       "      <td>283</td>\n",
       "      <td>56</td>\n",
       "      <td>11</td>\n",
       "      <td>WITH_CLIENT</td>\n",
       "      <td>NaN</td>\n",
       "      <td>15</td>\n",
       "      <td>5</td>\n",
       "      <td>5</td>\n",
       "      <td>0</td>\n",
       "      <td>4</td>\n",
       "      <td>0.0</td>\n",
       "      <td>2</td>\n",
       "      <td>2</td>\n",
       "      <td>3</td>\n",
       "    </tr>\n",
       "    <tr>\n",
       "      <th>2</th>\n",
       "      <td>13516</td>\n",
       "      <td>26.0</td>\n",
       "      <td>Ethiopian</td>\n",
       "      <td>FREEDOM_OPERATOR</td>\n",
       "      <td>491</td>\n",
       "      <td>8</td>\n",
       "      <td>1</td>\n",
       "      <td>WITH_CLIENT</td>\n",
       "      <td>NaN</td>\n",
       "      <td>1</td>\n",
       "      <td>1</td>\n",
       "      <td>1</td>\n",
       "      <td>0</td>\n",
       "      <td>0</td>\n",
       "      <td>0.0</td>\n",
       "      <td>3</td>\n",
       "      <td>2</td>\n",
       "      <td>1</td>\n",
       "    </tr>\n",
       "    <tr>\n",
       "      <th>6</th>\n",
       "      <td>13528</td>\n",
       "      <td>40.0</td>\n",
       "      <td>Kenyan</td>\n",
       "      <td>FREEDOM_OPERATOR</td>\n",
       "      <td>69</td>\n",
       "      <td>90</td>\n",
       "      <td>0</td>\n",
       "      <td>EMPLOYEMENT_TERMINATED</td>\n",
       "      <td>FIRED</td>\n",
       "      <td>7</td>\n",
       "      <td>1</td>\n",
       "      <td>1</td>\n",
       "      <td>1</td>\n",
       "      <td>0</td>\n",
       "      <td>18.0</td>\n",
       "      <td>3</td>\n",
       "      <td>3</td>\n",
       "      <td>1</td>\n",
       "    </tr>\n",
       "    <tr>\n",
       "      <th>8</th>\n",
       "      <td>13530</td>\n",
       "      <td>38.0</td>\n",
       "      <td>Kenyan</td>\n",
       "      <td>FREEDOM_OPERATOR</td>\n",
       "      <td>5</td>\n",
       "      <td>41</td>\n",
       "      <td>1</td>\n",
       "      <td>EMPLOYEMENT_TERMINATED</td>\n",
       "      <td>FIRED</td>\n",
       "      <td>13</td>\n",
       "      <td>1</td>\n",
       "      <td>1</td>\n",
       "      <td>0</td>\n",
       "      <td>1</td>\n",
       "      <td>0.0</td>\n",
       "      <td>2</td>\n",
       "      <td>3</td>\n",
       "      <td>1</td>\n",
       "    </tr>\n",
       "    <tr>\n",
       "      <th>10</th>\n",
       "      <td>13558</td>\n",
       "      <td>28.0</td>\n",
       "      <td>Kenyan</td>\n",
       "      <td>FREEDOM_OPERATOR</td>\n",
       "      <td>462</td>\n",
       "      <td>6</td>\n",
       "      <td>6</td>\n",
       "      <td>WITH_CLIENT</td>\n",
       "      <td>NaN</td>\n",
       "      <td>7</td>\n",
       "      <td>3</td>\n",
       "      <td>3</td>\n",
       "      <td>1</td>\n",
       "      <td>1</td>\n",
       "      <td>0.0</td>\n",
       "      <td>2</td>\n",
       "      <td>2</td>\n",
       "      <td>2</td>\n",
       "    </tr>\n",
       "    <tr>\n",
       "      <th>...</th>\n",
       "      <td>...</td>\n",
       "      <td>...</td>\n",
       "      <td>...</td>\n",
       "      <td>...</td>\n",
       "      <td>...</td>\n",
       "      <td>...</td>\n",
       "      <td>...</td>\n",
       "      <td>...</td>\n",
       "      <td>...</td>\n",
       "      <td>...</td>\n",
       "      <td>...</td>\n",
       "      <td>...</td>\n",
       "      <td>...</td>\n",
       "      <td>...</td>\n",
       "      <td>...</td>\n",
       "      <td>...</td>\n",
       "      <td>...</td>\n",
       "      <td>...</td>\n",
       "    </tr>\n",
       "    <tr>\n",
       "      <th>2528</th>\n",
       "      <td>21774</td>\n",
       "      <td>25.0</td>\n",
       "      <td>Ugandan</td>\n",
       "      <td>WALKIN</td>\n",
       "      <td>1</td>\n",
       "      <td>4</td>\n",
       "      <td>0</td>\n",
       "      <td>WITH_CLIENT</td>\n",
       "      <td>NaN</td>\n",
       "      <td>0</td>\n",
       "      <td>0</td>\n",
       "      <td>1</td>\n",
       "      <td>0</td>\n",
       "      <td>0</td>\n",
       "      <td>NaN</td>\n",
       "      <td>0</td>\n",
       "      <td>2</td>\n",
       "      <td>1</td>\n",
       "    </tr>\n",
       "    <tr>\n",
       "      <th>2530</th>\n",
       "      <td>21782</td>\n",
       "      <td>26.0</td>\n",
       "      <td>Kenyan</td>\n",
       "      <td>WALKIN</td>\n",
       "      <td>4</td>\n",
       "      <td>1</td>\n",
       "      <td>0</td>\n",
       "      <td>WITH_CLIENT</td>\n",
       "      <td>NaN</td>\n",
       "      <td>1</td>\n",
       "      <td>1</td>\n",
       "      <td>2</td>\n",
       "      <td>0</td>\n",
       "      <td>0</td>\n",
       "      <td>0.0</td>\n",
       "      <td>7</td>\n",
       "      <td>2</td>\n",
       "      <td>1</td>\n",
       "    </tr>\n",
       "    <tr>\n",
       "      <th>2532</th>\n",
       "      <td>21786</td>\n",
       "      <td>27.0</td>\n",
       "      <td>Ugandan</td>\n",
       "      <td>WALKIN</td>\n",
       "      <td>9</td>\n",
       "      <td>1</td>\n",
       "      <td>1</td>\n",
       "      <td>WITH_CLIENT</td>\n",
       "      <td>NaN</td>\n",
       "      <td>1</td>\n",
       "      <td>1</td>\n",
       "      <td>1</td>\n",
       "      <td>0</td>\n",
       "      <td>0</td>\n",
       "      <td>0.0</td>\n",
       "      <td>7</td>\n",
       "      <td>2</td>\n",
       "      <td>1</td>\n",
       "    </tr>\n",
       "    <tr>\n",
       "      <th>2533</th>\n",
       "      <td>21798</td>\n",
       "      <td>43.0</td>\n",
       "      <td>Liberian</td>\n",
       "      <td>WALKIN</td>\n",
       "      <td>0</td>\n",
       "      <td>0</td>\n",
       "      <td>0</td>\n",
       "      <td>AVAILABLE</td>\n",
       "      <td>NaN</td>\n",
       "      <td>0</td>\n",
       "      <td>0</td>\n",
       "      <td>0</td>\n",
       "      <td>0</td>\n",
       "      <td>0</td>\n",
       "      <td>NaN</td>\n",
       "      <td>0</td>\n",
       "      <td>3</td>\n",
       "      <td>1</td>\n",
       "    </tr>\n",
       "    <tr>\n",
       "      <th>2538</th>\n",
       "      <td>21808</td>\n",
       "      <td>28.0</td>\n",
       "      <td>Ugandan</td>\n",
       "      <td>WALKIN</td>\n",
       "      <td>5</td>\n",
       "      <td>0</td>\n",
       "      <td>0</td>\n",
       "      <td>WITH_CLIENT</td>\n",
       "      <td>NaN</td>\n",
       "      <td>1</td>\n",
       "      <td>1</td>\n",
       "      <td>1</td>\n",
       "      <td>0</td>\n",
       "      <td>0</td>\n",
       "      <td>0.0</td>\n",
       "      <td>7</td>\n",
       "      <td>2</td>\n",
       "      <td>1</td>\n",
       "    </tr>\n",
       "  </tbody>\n",
       "</table>\n",
       "<p>1044 rows × 18 columns</p>\n",
       "</div>"
      ],
      "text/plain": [
       "         id   age nationality              type  days_hired  days_unemployed  \\\n",
       "1     13515  29.0   Ethiopian  FREEDOM_OPERATOR         283               56   \n",
       "2     13516  26.0   Ethiopian  FREEDOM_OPERATOR         491                8   \n",
       "6     13528  40.0      Kenyan  FREEDOM_OPERATOR          69               90   \n",
       "8     13530  38.0      Kenyan  FREEDOM_OPERATOR           5               41   \n",
       "10    13558  28.0      Kenyan  FREEDOM_OPERATOR         462                6   \n",
       "...     ...   ...         ...               ...         ...              ...   \n",
       "2528  21774  25.0     Ugandan            WALKIN           1                4   \n",
       "2530  21782  26.0      Kenyan            WALKIN           4                1   \n",
       "2532  21786  27.0     Ugandan            WALKIN           9                1   \n",
       "2533  21798  43.0    Liberian            WALKIN           0                0   \n",
       "2538  21808  28.0     Ugandan            WALKIN           5                0   \n",
       "\n",
       "      complaint_no                  status termination_mode  interviews_no  \\\n",
       "1               11             WITH_CLIENT              NaN             15   \n",
       "2                1             WITH_CLIENT              NaN              1   \n",
       "6                0  EMPLOYEMENT_TERMINATED            FIRED              7   \n",
       "8                1  EMPLOYEMENT_TERMINATED            FIRED             13   \n",
       "10               6             WITH_CLIENT              NaN              7   \n",
       "...            ...                     ...              ...            ...   \n",
       "2528             0             WITH_CLIENT              NaN              0   \n",
       "2530             0             WITH_CLIENT              NaN              1   \n",
       "2532             1             WITH_CLIENT              NaN              1   \n",
       "2533             0               AVAILABLE              NaN              0   \n",
       "2538             0             WITH_CLIENT              NaN              1   \n",
       "\n",
       "      interviews_succ_no  hired_no  canceled_no  replaced_no  init_unemployed  \\\n",
       "1                      5         5            0            4              0.0   \n",
       "2                      1         1            0            0              0.0   \n",
       "6                      1         1            1            0             18.0   \n",
       "8                      1         1            0            1              0.0   \n",
       "10                     3         3            1            1              0.0   \n",
       "...                  ...       ...          ...          ...              ...   \n",
       "2528                   0         1            0            0              NaN   \n",
       "2530                   1         2            0            0              0.0   \n",
       "2532                   1         1            0            0              0.0   \n",
       "2533                   0         0            0            0              NaN   \n",
       "2538                   1         1            0            0              0.0   \n",
       "\n",
       "      month_joined  age_group  complaint_category  \n",
       "1                2          2                   3  \n",
       "2                3          2                   1  \n",
       "6                3          3                   1  \n",
       "8                2          3                   1  \n",
       "10               2          2                   2  \n",
       "...            ...        ...                 ...  \n",
       "2528             0          2                   1  \n",
       "2530             7          2                   1  \n",
       "2532             7          2                   1  \n",
       "2533             0          3                   1  \n",
       "2538             7          2                   1  \n",
       "\n",
       "[1044 rows x 18 columns]"
      ]
     },
     "execution_count": 540,
     "metadata": {},
     "output_type": "execute_result"
    }
   ],
   "source": [
    "# df['month_joined']= df.apply(lambda x: datetime.strptime(x.date_joined, \"%Y-%m-%d %H:%M:%S\").month, axis=1)\n",
    "df.drop(columns= ['date_left', 'date_joined', 'date_hired'])\n",
    "# let us drop date_left as for the remaining entries, even if fired or quit is on the record, there is only one valid leave date"
   ]
  },
  {
   "cell_type": "code",
   "execution_count": 541,
   "metadata": {},
   "outputs": [
    {
     "data": {
      "text/plain": [
       "(401, 21)"
      ]
     },
     "execution_count": 541,
     "metadata": {},
     "output_type": "execute_result"
    }
   ],
   "source": [
    "df[~pd.isna(df.termination_mode)].shape"
   ]
  },
  {
   "cell_type": "code",
   "execution_count": 542,
   "metadata": {},
   "outputs": [
    {
     "data": {
      "text/plain": [
       "termination_mode\n",
       "CONVERTED_TO_MAIDSAE      5\n",
       "FIRED                    72\n",
       "QUIT                    152\n",
       "dtype: int64"
      ]
     },
     "execution_count": 542,
     "metadata": {},
     "output_type": "execute_result"
    }
   ],
   "source": [
    "df_terminated.groupby('termination_mode').size()\n",
    "# df= df[~df.apply(lambda x: x.days_hired==0, axis=1)] # drop the rest as hire number >=1 hire days should be much more\n"
   ]
  },
  {
   "cell_type": "markdown",
   "metadata": {},
   "source": [
    "### First let us talk about the correlation between the age group and the complaint number. \n",
    "### Although the distribution of complaints is similar, we can observe:\n",
    "- ### less variance for the compalints towards the lower total complaints levels per observation for the younger maids\n",
    "- ### More outliers towards the very high number of complaints with higher age"
   ]
  },
  {
   "cell_type": "code",
   "execution_count": 779,
   "metadata": {},
   "outputs": [
    {
     "data": {
      "text/plain": [
       "<matplotlib.axes._subplots.AxesSubplot at 0x250a8e41ec8>"
      ]
     },
     "metadata": {},
     "output_type": "display_data"
    },
    {
     "data": {
      "text/plain": [
       "<matplotlib.axes._subplots.AxesSubplot at 0x250a8d60308>"
      ]
     },
     "metadata": {},
     "output_type": "display_data"
    },
    {
     "data": {
      "image/png": "[encoded data removed]",
      "text/plain": [
       "<Figure size 576x396 with 1 Axes>"
      ]
     },
     "metadata": {},
     "output_type": "display_data"
    },
    {
     "data": {
      "image/png": "[encoded data removed]",
      "text/plain": [
       "<Figure size 576x396 with 1 Axes>"
      ]
     },
     "metadata": {},
     "output_type": "display_data"
    }
   ],
   "source": [
    "df[~(df.days_hired==0)].groupby('nationality').size()\n",
    "nat= df[df.nationality.apply(lambda x: x in ['Cameroonian', 'Ethiopian', 'Ghanaian', 'Kenyan', 'Nigerian', 'Ugandan'] )] # get rid of nationality with few observations < 50\n",
    "display(temp.boxplot(column='complaint_no', by='age_group'))\n",
    "display(nat.boxplot(column='complaint_no', by='nationality', rot=90))\n",
    "\n",
    "# From the below, Ethiopian and Ugandan Nationalities seem to have the lowest complaint concentration.\n",
    "# Kenyen generally has low varience and low complaints. However it has the largest ammount of outliers that need to be checked"
   ]
  },
  {
   "cell_type": "code",
   "execution_count": 775,
   "metadata": {},
   "outputs": [
    {
     "data": {
      "text/plain": [
       "<matplotlib.axes._subplots.AxesSubplot at 0x250b04e5e08>"
      ]
     },
     "metadata": {},
     "output_type": "display_data"
    },
    {
     "data": {
      "image/png": "[encoded data removed]",
      "text/plain": [
       "<Figure size 576x396 with 1 Axes>"
      ]
     },
     "metadata": {},
     "output_type": "display_data"
    }
   ],
   "source": [
    "# From the below, we notice that most of the operator flights come between March and July, \n",
    "# while for walkin they are spread through the year \n",
    "# There should be an explanation why. \n",
    "\n",
    "display(df.boxplot(column='month_joined', by='type')) "
   ]
  },
  {
   "cell_type": "code",
   "execution_count": 782,
   "metadata": {},
   "outputs": [
    {
     "data": {
      "text/plain": [
       "<matplotlib.axes._subplots.AxesSubplot at 0x250aeb29dc8>"
      ]
     },
     "metadata": {},
     "output_type": "display_data"
    },
    {
     "data": {
      "image/png": "[encoded data removed]",
      "text/plain": [
       "<Figure size 576x396 with 1 Axes>"
      ]
     },
     "metadata": {},
     "output_type": "display_data"
    }
   ],
   "source": [
    "df['days_hired_cat']= df.days_hired.apply(lambda x: 1 if x<30 else 2 if x< 100 else 3 if x < 200 else 4)\n",
    "\n",
    "display(df.boxplot(column='month_joined', by='days_hired_cat')) \n",
    "\n",
    "# It seem there is a weird correlation to the join date of the spring/summer months to longer hiring duration"
   ]
  },
  {
   "cell_type": "markdown",
   "metadata": {},
   "source": [
    "<h1><center>Conclusion and Thoughts</center></h1>\n",
    "\n",
    "- ### The main correlation to the type which wasn't related in a way or another to the nationality or other factors is the early quitting for walkins relating to the operator maids\n",
    "- ### There was some correlation between type of maids and customer satisfaction as in general we can see that Operator Maids has less (high number of complaints per observation) cases compared to the walkin maids\n",
    "- ### complaints were generally lower for the younger maids wich are mostly operator maids so this could mess up any assumption of the type of maids we already considered\n",
    "\n",
    "## Thoughts\n",
    "- ### This was a very nice excersize where we explored a wealth of data. However, to decide if we must procede with a certain type of maid, we need more data to be able to correlate customer satisfaction.\n",
    "\n",
    "### For example:\n",
    "- ### Customer type: family, corporation, elderly\n",
    "- ### Need more data about some nationalities which had negligible sample size\n",
    "- ### We need to explore the outliers \n",
    "- ### We need to get more information about the reason of quitting/firing\n",
    "- ### We need to calculate days for initial unimployed expenses, combine with the expenses of operator (zero for walkin and 4000 UAD for operator), and find a measure for customer satisfaction relating to higher number of hiring days and continued business with the company"
   ]
  }
 ],
 "metadata": {
  "kernelspec": {
   "display_name": "Python 3",
   "language": "python",
   "name": "python3"
  },
  "language_info": {
   "codemirror_mode": {
    "name": "ipython",
    "version": 3
   },
   "file_extension": ".py",
   "mimetype": "text/x-python",
   "name": "python",
   "nbconvert_exporter": "python",
   "pygments_lexer": "ipython3",
   "version": "3.7.4"
  }
 },
 "nbformat": 4,
 "nbformat_minor": 4
}
